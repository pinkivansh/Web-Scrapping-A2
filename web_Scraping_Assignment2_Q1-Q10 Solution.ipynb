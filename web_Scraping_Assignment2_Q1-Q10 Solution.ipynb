{
 "cells": [
  {
   "cell_type": "markdown",
   "id": "95808624",
   "metadata": {},
   "source": [
    "                                        # Web Scraping Assignment-2"
   ]
  },
  {
   "cell_type": "markdown",
   "id": "bbf274c0",
   "metadata": {},
   "source": [
    "Q1: Write a python program to scrape data for “Data Analyst” Job position in “Bangalore” location. You have to scrape the job-title, job-location, company_name, experience_required. You have to scrape first 10 jobs data."
   ]
  },
  {
   "cell_type": "code",
   "execution_count": 1,
   "id": "6d79153a",
   "metadata": {
    "scrolled": false
   },
   "outputs": [
    {
     "name": "stdout",
     "output_type": "stream",
     "text": [
      "Requirement already satisfied: selenium in c:\\programdata\\anaconda3\\lib\\site-packages (4.1.0)\n",
      "Requirement already satisfied: urllib3[secure]~=1.26 in c:\\programdata\\anaconda3\\lib\\site-packages (from selenium) (1.26.4)\n",
      "Requirement already satisfied: trio-websocket~=0.9 in c:\\programdata\\anaconda3\\lib\\site-packages (from selenium) (0.9.2)\n",
      "Requirement already satisfied: trio~=0.17 in c:\\programdata\\anaconda3\\lib\\site-packages (from selenium) (0.19.0)\n",
      "Requirement already satisfied: cffi>=1.14 in c:\\programdata\\anaconda3\\lib\\site-packages (from trio~=0.17->selenium) (1.14.5)\n",
      "Requirement already satisfied: attrs>=19.2.0 in c:\\programdata\\anaconda3\\lib\\site-packages (from trio~=0.17->selenium) (20.3.0)\n",
      "Requirement already satisfied: sortedcontainers in c:\\programdata\\anaconda3\\lib\\site-packages (from trio~=0.17->selenium) (2.3.0)\n",
      "Requirement already satisfied: sniffio in c:\\programdata\\anaconda3\\lib\\site-packages (from trio~=0.17->selenium) (1.2.0)\n",
      "Requirement already satisfied: outcome in c:\\programdata\\anaconda3\\lib\\site-packages (from trio~=0.17->selenium) (1.1.0)\n",
      "Requirement already satisfied: async-generator>=1.9 in c:\\programdata\\anaconda3\\lib\\site-packages (from trio~=0.17->selenium) (1.10)\n",
      "Requirement already satisfied: idna in c:\\programdata\\anaconda3\\lib\\site-packages (from trio~=0.17->selenium) (2.10)\n",
      "Requirement already satisfied: pycparser in c:\\programdata\\anaconda3\\lib\\site-packages (from cffi>=1.14->trio~=0.17->selenium) (2.20)\n",
      "Requirement already satisfied: wsproto>=0.14 in c:\\programdata\\anaconda3\\lib\\site-packages (from trio-websocket~=0.9->selenium) (1.0.0)\n",
      "Requirement already satisfied: certifi in c:\\programdata\\anaconda3\\lib\\site-packages (from urllib3[secure]~=1.26->selenium) (2020.12.5)\n",
      "Requirement already satisfied: pyOpenSSL>=0.14 in c:\\programdata\\anaconda3\\lib\\site-packages (from urllib3[secure]~=1.26->selenium) (20.0.1)\n",
      "Requirement already satisfied: cryptography>=1.3.4 in c:\\programdata\\anaconda3\\lib\\site-packages (from urllib3[secure]~=1.26->selenium) (3.4.7)\n",
      "Requirement already satisfied: six>=1.5.2 in c:\\programdata\\anaconda3\\lib\\site-packages (from pyOpenSSL>=0.14->urllib3[secure]~=1.26->selenium) (1.15.0)\n",
      "Requirement already satisfied: h11<1,>=0.9.0 in c:\\programdata\\anaconda3\\lib\\site-packages (from wsproto>=0.14->trio-websocket~=0.9->selenium) (0.12.0)\n"
     ]
    }
   ],
   "source": [
    "\n",
    "!pip install selenium \n"
   ]
  },
  {
   "cell_type": "code",
   "execution_count": 2,
   "id": "29ae417c",
   "metadata": {},
   "outputs": [],
   "source": [
    "#importing the necessary libraries\n",
    "import selenium\n",
    "from selenium import webdriver\n",
    "import pandas as pd\n",
    "import warnings\n",
    "warnings.filterwarnings(\"ignore\")\n",
    "import time"
   ]
  },
  {
   "cell_type": "code",
   "execution_count": 3,
   "id": "8646ee6d",
   "metadata": {},
   "outputs": [],
   "source": [
    "\n",
    "driver = webdriver.Chrome(r'C:\\Users\\User\\Downloads\\chromedriver_win32\\chromedriver.exe')"
   ]
  },
  {
   "cell_type": "code",
   "execution_count": 4,
   "id": "cfa3bc67",
   "metadata": {},
   "outputs": [],
   "source": [
    "driver=webdriver.Chrome('chromedriver.exe')"
   ]
  },
  {
   "cell_type": "code",
   "execution_count": 5,
   "id": "1a9cad56",
   "metadata": {
    "scrolled": true
   },
   "outputs": [],
   "source": [
    "url='https://www.naukri.com/'\n",
    "driver.get(url)"
   ]
  },
  {
   "cell_type": "code",
   "execution_count": 9,
   "id": "e5617a15",
   "metadata": {},
   "outputs": [],
   "source": [
    "search_job=driver.find_element_by_class_name(\"suggestor-input \")\n",
    "search_job.send_keys(\"Data Analyst,\")"
   ]
  },
  {
   "cell_type": "code",
   "execution_count": 11,
   "id": "ac6f96a5",
   "metadata": {},
   "outputs": [
    {
     "data": {
      "text/plain": [
       "<selenium.webdriver.remote.webelement.WebElement (session=\"8af690f6745ea5d8bd1fd8deb1dc2096\", element=\"037f60d3-af7e-492e-91e9-25cfa571cef8\")>"
      ]
     },
     "execution_count": 11,
     "metadata": {},
     "output_type": "execute_result"
    }
   ],
   "source": [
    "search_locn=driver.find_element_by_xpath('/html/body/div/div[2]/div[3]/div/div/div[3]/div/div/div/input')\n",
    "search_locn "
   ]
  },
  {
   "cell_type": "code",
   "execution_count": 12,
   "id": "0d3cf00c",
   "metadata": {},
   "outputs": [],
   "source": [
    "\n",
    "search_locn.send_keys(\"Bangalore/Bangaluru\")\n",
    "search_btn=driver.find_element_by_xpath('/html/body/div/div[2]/div[3]/div/div/div[6]')\n",
    "search_btn.click()"
   ]
  },
  {
   "cell_type": "code",
   "execution_count": 13,
   "id": "522862d8",
   "metadata": {},
   "outputs": [],
   "source": [
    "\n",
    "\n",
    "# Extracting data\n",
    "title_tag=driver.find_elements_by_xpath('//a[@class=\"title fw500 ellipsis\"]')\n",
    "title_name=[]\n",
    "for i in title_tag:\n",
    "    title_name.append(i.text)\n",
    "title_name[0:10]\n",
    "company_tags=driver.find_elements_by_xpath('//a[@class=\"subTitle ellipsis fleft\"]')\n",
    "company_name=[]\n",
    "for i in company_tags:\n",
    "    company_name.append(i.text)\n",
    "company_name[0:10]\n",
    "\n",
    "locn_tag=driver.find_elements_by_xpath('//li[@class=\"fleft grey-text br2 placeHolderLi location\"]')\n",
    "loc_name=[]\n",
    "for i in locn_tag:\n",
    "    loc_name.append(i.text)\n",
    "exp_tag=driver.find_elements_by_xpath('//li[@class=\"fleft grey-text br2 placeHolderLi experience\"]')\n",
    "exp=[]\n",
    "for i in exp_tag:\n",
    "    exp.append(i.text)\n",
    "\n"
   ]
  },
  {
   "cell_type": "code",
   "execution_count": 14,
   "id": "820d926e",
   "metadata": {},
   "outputs": [
    {
     "data": {
      "text/html": [
       "<div>\n",
       "<style scoped>\n",
       "    .dataframe tbody tr th:only-of-type {\n",
       "        vertical-align: middle;\n",
       "    }\n",
       "\n",
       "    .dataframe tbody tr th {\n",
       "        vertical-align: top;\n",
       "    }\n",
       "\n",
       "    .dataframe thead th {\n",
       "        text-align: right;\n",
       "    }\n",
       "</style>\n",
       "<table border=\"1\" class=\"dataframe\">\n",
       "  <thead>\n",
       "    <tr style=\"text-align: right;\">\n",
       "      <th></th>\n",
       "      <th>Company Name</th>\n",
       "      <th>Position</th>\n",
       "      <th>Experience_Required</th>\n",
       "      <th>Location</th>\n",
       "    </tr>\n",
       "  </thead>\n",
       "  <tbody>\n",
       "    <tr>\n",
       "      <th>0</th>\n",
       "      <td>Artech infosystem</td>\n",
       "      <td>Data Analyst - CRM Platform</td>\n",
       "      <td>1-6 Yrs</td>\n",
       "      <td>Kolkata, Mumbai, Hyderabad/Secunderabad, Pune,...</td>\n",
       "    </tr>\n",
       "    <tr>\n",
       "      <th>1</th>\n",
       "      <td>E&amp;Y</td>\n",
       "      <td>Data Analyst</td>\n",
       "      <td>3-7 Yrs</td>\n",
       "      <td>Kolkata, Pune, Gurgaon/Gurugram, Bangalore/Ben...</td>\n",
       "    </tr>\n",
       "    <tr>\n",
       "      <th>2</th>\n",
       "      <td>Vmware</td>\n",
       "      <td>Data Analyst / Sr. Data Analyst</td>\n",
       "      <td>3-6 Yrs</td>\n",
       "      <td>Bangalore/Bengaluru</td>\n",
       "    </tr>\n",
       "    <tr>\n",
       "      <th>3</th>\n",
       "      <td>ExecBoardinAsia</td>\n",
       "      <td>Lead Data Analyst, ED&amp;A</td>\n",
       "      <td>5-10 Yrs</td>\n",
       "      <td>Bangalore/Bengaluru</td>\n",
       "    </tr>\n",
       "    <tr>\n",
       "      <th>4</th>\n",
       "      <td>Jeeva Organic</td>\n",
       "      <td>Data Analyst</td>\n",
       "      <td>3-8 Yrs</td>\n",
       "      <td>Bangalore/Bengaluru</td>\n",
       "    </tr>\n",
       "    <tr>\n",
       "      <th>5</th>\n",
       "      <td>Axim Technologies</td>\n",
       "      <td>Lead - Data Analyst / Scientist</td>\n",
       "      <td>12-14 Yrs</td>\n",
       "      <td>Bangalore/Bengaluru</td>\n",
       "    </tr>\n",
       "    <tr>\n",
       "      <th>6</th>\n",
       "      <td>AXL HR Tech</td>\n",
       "      <td>Research - Data Analyst / Associate</td>\n",
       "      <td>0-2 Yrs</td>\n",
       "      <td>Mumbai, Delhi / NCR, Bangalore/Bengaluru</td>\n",
       "    </tr>\n",
       "    <tr>\n",
       "      <th>7</th>\n",
       "      <td>Russell Tobin Associates Staffing Solutions In...</td>\n",
       "      <td>Hiring Data Analyst For BFSI on Contract role</td>\n",
       "      <td>3-6 Yrs</td>\n",
       "      <td>Bangalore/Bengaluru(Marathahalli)</td>\n",
       "    </tr>\n",
       "    <tr>\n",
       "      <th>8</th>\n",
       "      <td>Huquo Consulting Pvt. Ltd</td>\n",
       "      <td>Senior Data Analyst - KPO</td>\n",
       "      <td>7-12 Yrs</td>\n",
       "      <td>Gurgaon/Gurugram, Bangalore/Bengaluru</td>\n",
       "    </tr>\n",
       "    <tr>\n",
       "      <th>9</th>\n",
       "      <td>Huquo Consulting Pvt. Ltd</td>\n",
       "      <td>Assistant Manager/Lead/Manager - Data Analyst ...</td>\n",
       "      <td>2-6 Yrs</td>\n",
       "      <td>Gurgaon/Gurugram, Bangalore/Bengaluru</td>\n",
       "    </tr>\n",
       "  </tbody>\n",
       "</table>\n",
       "</div>"
      ],
      "text/plain": [
       "                                        Company Name  \\\n",
       "0                                  Artech infosystem   \n",
       "1                                                E&Y   \n",
       "2                                             Vmware   \n",
       "3                                    ExecBoardinAsia   \n",
       "4                                      Jeeva Organic   \n",
       "5                                  Axim Technologies   \n",
       "6                                        AXL HR Tech   \n",
       "7  Russell Tobin Associates Staffing Solutions In...   \n",
       "8                          Huquo Consulting Pvt. Ltd   \n",
       "9                          Huquo Consulting Pvt. Ltd   \n",
       "\n",
       "                                            Position Experience_Required  \\\n",
       "0                        Data Analyst - CRM Platform             1-6 Yrs   \n",
       "1                                       Data Analyst             3-7 Yrs   \n",
       "2                    Data Analyst / Sr. Data Analyst             3-6 Yrs   \n",
       "3                            Lead Data Analyst, ED&A            5-10 Yrs   \n",
       "4                                       Data Analyst             3-8 Yrs   \n",
       "5                    Lead - Data Analyst / Scientist           12-14 Yrs   \n",
       "6                Research - Data Analyst / Associate             0-2 Yrs   \n",
       "7      Hiring Data Analyst For BFSI on Contract role             3-6 Yrs   \n",
       "8                          Senior Data Analyst - KPO            7-12 Yrs   \n",
       "9  Assistant Manager/Lead/Manager - Data Analyst ...             2-6 Yrs   \n",
       "\n",
       "                                            Location  \n",
       "0  Kolkata, Mumbai, Hyderabad/Secunderabad, Pune,...  \n",
       "1  Kolkata, Pune, Gurgaon/Gurugram, Bangalore/Ben...  \n",
       "2                                Bangalore/Bengaluru  \n",
       "3                                Bangalore/Bengaluru  \n",
       "4                                Bangalore/Bengaluru  \n",
       "5                                Bangalore/Bengaluru  \n",
       "6           Mumbai, Delhi / NCR, Bangalore/Bengaluru  \n",
       "7                  Bangalore/Bengaluru(Marathahalli)  \n",
       "8              Gurgaon/Gurugram, Bangalore/Bengaluru  \n",
       "9              Gurgaon/Gurugram, Bangalore/Bengaluru  "
      ]
     },
     "execution_count": 14,
     "metadata": {},
     "output_type": "execute_result"
    }
   ],
   "source": [
    "df=pd.DataFrame({'Company Name':company_name[0:10] , 'Position' :title_name[0:10],'Experience_Required' :exp[0:10],'Location' :loc_name[0:10]})\n",
    "df"
   ]
  },
  {
   "cell_type": "markdown",
   "id": "4ba42574",
   "metadata": {},
   "source": [
    "-----------------------------------------------------------------------------------------------------------------------------"
   ]
  },
  {
   "cell_type": "markdown",
   "id": "75b3144b",
   "metadata": {},
   "source": [
    "Q2: Write a python program to scrape data for “Data Scientist” Job position in “Bangalore” location. You\n",
    "have to scrape the job-title, job-location, company_name. You have to scrape first 10 jobs data."
   ]
  },
  {
   "cell_type": "code",
   "execution_count": 17,
   "id": "da57f34e",
   "metadata": {},
   "outputs": [],
   "source": [
    "driver = webdriver.Chrome(r'C:\\Users\\User\\Downloads\\chromedriver_win32\\chromedriver.exe')\n",
    "time.sleep(5)\n",
    "driver=webdriver.Chrome('chromedriver.exe')\n",
    "time.sleep(5)\n",
    "url='https://www.naukri.com/'\n",
    "driver.get(url)"
   ]
  },
  {
   "cell_type": "code",
   "execution_count": 23,
   "id": "39ec0cba",
   "metadata": {},
   "outputs": [],
   "source": [
    "search_job=driver.find_element_by_class_name(\"suggestor-input \")\n",
    "search_job.send_keys(\"Data scientist,\")"
   ]
  },
  {
   "cell_type": "code",
   "execution_count": 24,
   "id": "2d4937e1",
   "metadata": {},
   "outputs": [],
   "source": [
    "search_locn=driver.find_element_by_xpath('/html/body/div/div[2]/div[3]/div/div/div[3]/div/div/div/input')\n",
    "search_locn.send_keys(\"Bangalore/Bangaluru\")"
   ]
  },
  {
   "cell_type": "code",
   "execution_count": 25,
   "id": "38e28c95",
   "metadata": {},
   "outputs": [],
   "source": [
    "search_btn=driver.find_element_by_xpath('/html/body/div/div[2]/div[3]/div/div/div[6]')\n",
    "search_btn.click()\n"
   ]
  },
  {
   "cell_type": "code",
   "execution_count": 26,
   "id": "3c612558",
   "metadata": {},
   "outputs": [],
   "source": [
    "title_tag=driver.find_elements_by_xpath('//a[@class=\"title fw500 ellipsis\"]')\n",
    "title_name=[]\n",
    "for i in title_tag:\n",
    "    title_name.append(i.text)\n",
    "time.sleep(5)\n",
    "company_tags=driver.find_elements_by_xpath('//a[@class=\"subTitle ellipsis fleft\"]')\n",
    "time.sleep(2)\n",
    "company_name=[]\n",
    "for i in company_tags:\n",
    "    company_name.append(i.text)\n",
    "company_name[0:10]\n",
    "locn_tag=driver.find_elements_by_xpath('//li[@class=\"fleft grey-text br2 placeHolderLi location\"]')\n",
    "time.sleep(2)\n",
    "loc_name=[]\n",
    "for i in locn_tag:\n",
    "    loc_name.append(i.text)\n"
   ]
  },
  {
   "cell_type": "code",
   "execution_count": 27,
   "id": "8a05075c",
   "metadata": {},
   "outputs": [
    {
     "data": {
      "text/html": [
       "<div>\n",
       "<style scoped>\n",
       "    .dataframe tbody tr th:only-of-type {\n",
       "        vertical-align: middle;\n",
       "    }\n",
       "\n",
       "    .dataframe tbody tr th {\n",
       "        vertical-align: top;\n",
       "    }\n",
       "\n",
       "    .dataframe thead th {\n",
       "        text-align: right;\n",
       "    }\n",
       "</style>\n",
       "<table border=\"1\" class=\"dataframe\">\n",
       "  <thead>\n",
       "    <tr style=\"text-align: right;\">\n",
       "      <th></th>\n",
       "      <th>Company Name</th>\n",
       "      <th>Position</th>\n",
       "      <th>Location</th>\n",
       "    </tr>\n",
       "  </thead>\n",
       "  <tbody>\n",
       "    <tr>\n",
       "      <th>0</th>\n",
       "      <td>Dell</td>\n",
       "      <td>Senior Data Scientist</td>\n",
       "      <td>Bangalore/Bengaluru</td>\n",
       "    </tr>\n",
       "    <tr>\n",
       "      <th>1</th>\n",
       "      <td>Dell</td>\n",
       "      <td>Senior Data Scientist</td>\n",
       "      <td>Bangalore/Bengaluru</td>\n",
       "    </tr>\n",
       "    <tr>\n",
       "      <th>2</th>\n",
       "      <td>Samya.AI A FRACTAL Entity</td>\n",
       "      <td>Lead/Senior Data Scientist (NLP)</td>\n",
       "      <td>Bangalore/Bengaluru\\n(WFH during Covid)</td>\n",
       "    </tr>\n",
       "    <tr>\n",
       "      <th>3</th>\n",
       "      <td>Dell</td>\n",
       "      <td>Commercial Analytics Data Scientist</td>\n",
       "      <td>Bangalore/Bengaluru</td>\n",
       "    </tr>\n",
       "    <tr>\n",
       "      <th>4</th>\n",
       "      <td>NutaNXT Technologies</td>\n",
       "      <td>Sr. Data Scientist</td>\n",
       "      <td>Pune, Bangalore/Bengaluru, Mumbai (All Areas)\\...</td>\n",
       "    </tr>\n",
       "    <tr>\n",
       "      <th>5</th>\n",
       "      <td>GO-JEK India</td>\n",
       "      <td>Senior Data Scientist - Logistics</td>\n",
       "      <td>Bangalore/Bengaluru</td>\n",
       "    </tr>\n",
       "    <tr>\n",
       "      <th>6</th>\n",
       "      <td>Fractal Analytics</td>\n",
       "      <td>Senior Data Scientist</td>\n",
       "      <td>Gurgaon/Gurugram, Bangalore/Bengaluru, Mumbai ...</td>\n",
       "    </tr>\n",
       "    <tr>\n",
       "      <th>7</th>\n",
       "      <td>Codersbrain</td>\n",
       "      <td>Lead Data Scientist - NLP/OpenCV</td>\n",
       "      <td>Hyderabad/Secunderabad, Bangalore/Bengaluru</td>\n",
       "    </tr>\n",
       "    <tr>\n",
       "      <th>8</th>\n",
       "      <td>Codersbrain</td>\n",
       "      <td>Lead Data Scientist - Prescriptive Analytics/P...</td>\n",
       "      <td>Hyderabad/Secunderabad, Bangalore/Bengaluru</td>\n",
       "    </tr>\n",
       "    <tr>\n",
       "      <th>9</th>\n",
       "      <td>Axim Technologies</td>\n",
       "      <td>Lead - Data Analyst / Scientist</td>\n",
       "      <td>Bangalore/Bengaluru</td>\n",
       "    </tr>\n",
       "  </tbody>\n",
       "</table>\n",
       "</div>"
      ],
      "text/plain": [
       "                Company Name  \\\n",
       "0                       Dell   \n",
       "1                       Dell   \n",
       "2  Samya.AI A FRACTAL Entity   \n",
       "3                       Dell   \n",
       "4       NutaNXT Technologies   \n",
       "5               GO-JEK India   \n",
       "6          Fractal Analytics   \n",
       "7                Codersbrain   \n",
       "8                Codersbrain   \n",
       "9          Axim Technologies   \n",
       "\n",
       "                                            Position  \\\n",
       "0                              Senior Data Scientist   \n",
       "1                              Senior Data Scientist   \n",
       "2                   Lead/Senior Data Scientist (NLP)   \n",
       "3                Commercial Analytics Data Scientist   \n",
       "4                                 Sr. Data Scientist   \n",
       "5                  Senior Data Scientist - Logistics   \n",
       "6                              Senior Data Scientist   \n",
       "7                   Lead Data Scientist - NLP/OpenCV   \n",
       "8  Lead Data Scientist - Prescriptive Analytics/P...   \n",
       "9                    Lead - Data Analyst / Scientist   \n",
       "\n",
       "                                            Location  \n",
       "0                                Bangalore/Bengaluru  \n",
       "1                                Bangalore/Bengaluru  \n",
       "2            Bangalore/Bengaluru\\n(WFH during Covid)  \n",
       "3                                Bangalore/Bengaluru  \n",
       "4  Pune, Bangalore/Bengaluru, Mumbai (All Areas)\\...  \n",
       "5                                Bangalore/Bengaluru  \n",
       "6  Gurgaon/Gurugram, Bangalore/Bengaluru, Mumbai ...  \n",
       "7        Hyderabad/Secunderabad, Bangalore/Bengaluru  \n",
       "8        Hyderabad/Secunderabad, Bangalore/Bengaluru  \n",
       "9                                Bangalore/Bengaluru  "
      ]
     },
     "execution_count": 27,
     "metadata": {},
     "output_type": "execute_result"
    }
   ],
   "source": [
    "df=pd.DataFrame({'Company Name':company_name[0:10] , 'Position' :title_name[0:10], 'Location' :loc_name[0:10]})\n",
    "df"
   ]
  },
  {
   "cell_type": "markdown",
   "id": "09b126ea",
   "metadata": {},
   "source": [
    "-------------------------------------------------------------------------------------------------------------------------------"
   ]
  },
  {
   "cell_type": "markdown",
   "id": "8e564f18",
   "metadata": {},
   "source": [
    "Q3 You have to use the location and salary filter.\n",
    "   You have to scrape data for “Data Scientist” designation for first 10 job results.\n",
    "   You have to scrape the job-title, job-location, company name, experience required.\n",
    "   The location filter to be used is “Delhi/NCR”. The salary filter to be used is “3-6” lakhs"
   ]
  },
  {
   "cell_type": "code",
   "execution_count": 28,
   "id": "c8ac7d31",
   "metadata": {},
   "outputs": [],
   "source": [
    "#connection with driver\n",
    "driver = webdriver.Chrome(r'C:\\Users\\User\\Downloads\\chromedriver_win32\\chromedriver.exe')\n",
    "time.sleep(5)\n",
    "driver=webdriver.Chrome('chromedriver.exe')\n",
    "time.sleep(5)\n",
    "url='https://www.naukri.com/'\n",
    "driver.get(url)"
   ]
  },
  {
   "cell_type": "code",
   "execution_count": 29,
   "id": "1d55f235",
   "metadata": {
    "scrolled": false
   },
   "outputs": [],
   "source": [
    "# Giving input to the search Bar\n",
    "search_job=driver.find_element_by_class_name(\"suggestor-input \")\n",
    "search_job.send_keys(\"Data Analyst,\")\n",
    "\n",
    "search_locn=driver.find_element_by_xpath('/html/body/div/div[2]/div[3]/div/div/div[3]/div/div/div/input')\n",
    "search_locn.send_keys(\"Delhi/NCR\")\n",
    "search_btn=driver.find_element_by_xpath('/html/body/div/div[2]/div[3]/div/div/div[6]')\n",
    "search_btn.click()\n",
    "time.sleep(2)\n"
   ]
  },
  {
   "cell_type": "code",
   "execution_count": 30,
   "id": "4e5e4003",
   "metadata": {},
   "outputs": [],
   "source": [
    "#set the salary filter 3-6lakh\n",
    "salary_check=driver.find_element_by_xpath('/html/body/div[1]/div[3]/div[2]/section[1]/div[2]/div[4]/div[2]/div[2]/label/p/span[1]')\n",
    "salary_check.click()"
   ]
  },
  {
   "cell_type": "code",
   "execution_count": 31,
   "id": "10d11ab1",
   "metadata": {},
   "outputs": [],
   "source": [
    "# Extracting the data\n",
    "title_tag=driver.find_elements_by_xpath('//a[@class=\"title fw500 ellipsis\"]')\n",
    "title_name=[]\n",
    "for i in title_tag:\n",
    "    title_name.append(i.text)\n",
    "#title_name[0:10]\n",
    "\n",
    "\n",
    "#company details \n",
    "company_tags=driver.find_elements_by_xpath('//a[@class=\"subTitle ellipsis fleft\"]')\n",
    "company_name=[]\n",
    "for i in company_tags:\n",
    "    company_name.append(i.text)\n",
    "company_name[0:10]\n",
    "\n",
    "\n",
    "#Location Details \n",
    "locn_tag=driver.find_elements_by_xpath('//li[@class=\"fleft grey-text br2 placeHolderLi location\"]')\n",
    "loc_name=[]\n",
    "for i in locn_tag:\n",
    "    loc_name.append(i.text)\n"
   ]
  },
  {
   "cell_type": "code",
   "execution_count": 32,
   "id": "1172cf9a",
   "metadata": {},
   "outputs": [
    {
     "data": {
      "text/html": [
       "<div>\n",
       "<style scoped>\n",
       "    .dataframe tbody tr th:only-of-type {\n",
       "        vertical-align: middle;\n",
       "    }\n",
       "\n",
       "    .dataframe tbody tr th {\n",
       "        vertical-align: top;\n",
       "    }\n",
       "\n",
       "    .dataframe thead th {\n",
       "        text-align: right;\n",
       "    }\n",
       "</style>\n",
       "<table border=\"1\" class=\"dataframe\">\n",
       "  <thead>\n",
       "    <tr style=\"text-align: right;\">\n",
       "      <th></th>\n",
       "      <th>Company Name</th>\n",
       "      <th>Position</th>\n",
       "      <th>Location</th>\n",
       "    </tr>\n",
       "  </thead>\n",
       "  <tbody>\n",
       "    <tr>\n",
       "      <th>0</th>\n",
       "      <td>AXL HR Tech</td>\n",
       "      <td>Research - Data Analyst / Associate</td>\n",
       "      <td>Mumbai, Delhi / NCR, Bangalore/Bengaluru</td>\n",
       "    </tr>\n",
       "    <tr>\n",
       "      <th>1</th>\n",
       "      <td>STRAIVE (SPI TECHNOLOGIES)</td>\n",
       "      <td>We are hiring ESG Data Analyst!!!</td>\n",
       "      <td>Hyderabad/Secunderabad, Pune, Chennai, Bangalo...</td>\n",
       "    </tr>\n",
       "    <tr>\n",
       "      <th>2</th>\n",
       "      <td>STRAIVE (SPI TECHNOLOGIES)</td>\n",
       "      <td>We are hiring ESG Data Analyst!!!</td>\n",
       "      <td>Hyderabad/Secunderabad, Pune, Chennai, Bangalo...</td>\n",
       "    </tr>\n",
       "    <tr>\n",
       "      <th>3</th>\n",
       "      <td>DEN Networks Limited</td>\n",
       "      <td>Senior Data Analyst</td>\n",
       "      <td>New Delhi(Okhla)</td>\n",
       "    </tr>\n",
       "    <tr>\n",
       "      <th>4</th>\n",
       "      <td>WHO</td>\n",
       "      <td>Assistant Data Analyst</td>\n",
       "      <td>New Delhi</td>\n",
       "    </tr>\n",
       "    <tr>\n",
       "      <th>5</th>\n",
       "      <td>GirnarSoft</td>\n",
       "      <td>Hiring For Senior Data Analyst</td>\n",
       "      <td>Gurgaon/Gurugram\\n(WFH during Covid)</td>\n",
       "    </tr>\n",
       "    <tr>\n",
       "      <th>6</th>\n",
       "      <td>Adglobal360 India Private Limited</td>\n",
       "      <td>Urgent Hiring For Digital Data Analyst (immedi...</td>\n",
       "      <td>Gurgaon/Gurugram</td>\n",
       "    </tr>\n",
       "    <tr>\n",
       "      <th>7</th>\n",
       "      <td>MetLife</td>\n",
       "      <td>Reporting and Data Analyst</td>\n",
       "      <td>Noida</td>\n",
       "    </tr>\n",
       "    <tr>\n",
       "      <th>8</th>\n",
       "      <td>AINE Info Tech Pvt Ltd</td>\n",
       "      <td>Data &amp; Business Analyst (Remote/Work from Home)</td>\n",
       "      <td>Remote</td>\n",
       "    </tr>\n",
       "    <tr>\n",
       "      <th>9</th>\n",
       "      <td>Venuestring Events Management Pvt Ltd</td>\n",
       "      <td>Data Analyst</td>\n",
       "      <td>Bangalore/Bengaluru, Delhi / NCR, Mumbai (All ...</td>\n",
       "    </tr>\n",
       "  </tbody>\n",
       "</table>\n",
       "</div>"
      ],
      "text/plain": [
       "                            Company Name  \\\n",
       "0                            AXL HR Tech   \n",
       "1             STRAIVE (SPI TECHNOLOGIES)   \n",
       "2             STRAIVE (SPI TECHNOLOGIES)   \n",
       "3                   DEN Networks Limited   \n",
       "4                                    WHO   \n",
       "5                             GirnarSoft   \n",
       "6      Adglobal360 India Private Limited   \n",
       "7                                MetLife   \n",
       "8                 AINE Info Tech Pvt Ltd   \n",
       "9  Venuestring Events Management Pvt Ltd   \n",
       "\n",
       "                                            Position  \\\n",
       "0                Research - Data Analyst / Associate   \n",
       "1                  We are hiring ESG Data Analyst!!!   \n",
       "2                  We are hiring ESG Data Analyst!!!   \n",
       "3                                Senior Data Analyst   \n",
       "4                             Assistant Data Analyst   \n",
       "5                     Hiring For Senior Data Analyst   \n",
       "6  Urgent Hiring For Digital Data Analyst (immedi...   \n",
       "7                         Reporting and Data Analyst   \n",
       "8    Data & Business Analyst (Remote/Work from Home)   \n",
       "9                                       Data Analyst   \n",
       "\n",
       "                                            Location  \n",
       "0           Mumbai, Delhi / NCR, Bangalore/Bengaluru  \n",
       "1  Hyderabad/Secunderabad, Pune, Chennai, Bangalo...  \n",
       "2  Hyderabad/Secunderabad, Pune, Chennai, Bangalo...  \n",
       "3                                   New Delhi(Okhla)  \n",
       "4                                          New Delhi  \n",
       "5               Gurgaon/Gurugram\\n(WFH during Covid)  \n",
       "6                                   Gurgaon/Gurugram  \n",
       "7                                              Noida  \n",
       "8                                             Remote  \n",
       "9  Bangalore/Bengaluru, Delhi / NCR, Mumbai (All ...  "
      ]
     },
     "execution_count": 32,
     "metadata": {},
     "output_type": "execute_result"
    }
   ],
   "source": [
    "#creating a Dataframe\n",
    "\n",
    "df=pd.DataFrame({'Company Name':company_name[0:10] , 'Position' :title_name[0:10], 'Location' :loc_name[0:10]})\n",
    "df"
   ]
  },
  {
   "cell_type": "markdown",
   "id": "b4561f4d",
   "metadata": {},
   "source": [
    "______________________________________________________________________________________________________________________________"
   ]
  },
  {
   "cell_type": "markdown",
   "id": "13aeebf0",
   "metadata": {},
   "source": [
    "**Q4: Scrape data of first 100 sunglasses listings on flipkart.com. You have to scrape four attributes:\n",
    "1. Brand\n",
    "2. Product Description\n",
    "3. Price\n",
    "\n",
    "Scrap 100 sunglasses"
   ]
  },
  {
   "cell_type": "code",
   "execution_count": 33,
   "id": "22930762",
   "metadata": {},
   "outputs": [],
   "source": [
    "# connection with driver\n",
    "\n",
    "driver = webdriver.Chrome(r'C:\\Users\\User\\Downloads\\chromedriver_win32\\chromedriver.exe')\n",
    "driver=webdriver.Chrome('chromedriver.exe')\n",
    "url='https://www.flipkart.com'\n",
    "driver.get(url)\n",
    "time.sleep(2)"
   ]
  },
  {
   "cell_type": "code",
   "execution_count": 34,
   "id": "44de51cd",
   "metadata": {},
   "outputs": [],
   "source": [
    "#closing the Login window\n",
    "try:\n",
    "    driver.find_element_by_xpath(\"//button[@class='_2KpZ6l _2doB4z']\").click()\n",
    "except NoSuchElementException:\n",
    "    pass"
   ]
  },
  {
   "cell_type": "code",
   "execution_count": 38,
   "id": "2e9603e0",
   "metadata": {},
   "outputs": [],
   "source": [
    "#code for search Bar\n",
    "\n",
    "search_bar_fk=driver.find_element_by_class_name('_3704LK')\n",
    "search_bar_fk.clear()\n",
    "search_bar_fk.send_keys('sunglasses')"
   ]
  },
  {
   "cell_type": "code",
   "execution_count": 36,
   "id": "8a194916",
   "metadata": {},
   "outputs": [],
   "source": [
    "#clicking the search Button\n",
    "search_btn_fk=driver.find_element_by_class_name('_34RNph')\n",
    "search_btn_fk.click()"
   ]
  },
  {
   "cell_type": "code",
   "execution_count": 37,
   "id": "0cb2f421",
   "metadata": {},
   "outputs": [
    {
     "data": {
      "text/plain": [
       "<selenium.webdriver.remote.webelement.WebElement (session=\"feb3dfd49b82ac1f056a23dfda054f66\", element=\"4caef810-d4cc-4d47-a017-f172a7ea2e0d\")>"
      ]
     },
     "execution_count": 37,
     "metadata": {},
     "output_type": "execute_result"
    }
   ],
   "source": [
    "#setting the location Xpath\n",
    "search_locn=driver.find_element_by_xpath('/html/body/div/div/div[1]/div[1]/div[2]/div[2]/form/ul')\n",
    "search_locn"
   ]
  },
  {
   "cell_type": "code",
   "execution_count": 39,
   "id": "a9832620",
   "metadata": {},
   "outputs": [],
   "source": []
  },
  {
   "cell_type": "code",
   "execution_count": 43,
   "id": "c7ebeb85",
   "metadata": {},
   "outputs": [],
   "source": [
    "#scraping the details produts ,price and description\n",
    "\n",
    "product_tag=driver.find_elements_by_xpath('//div[@class=\"_2WkVRV\"]')\n",
    "title_name=[]\n",
    "for i in product_tag:\n",
    "    title_name.append(i.text)\n",
    "#title_name\n",
    "price_tags=driver.find_elements_by_xpath('//div[@class=\"_30jeq3\"]')\n",
    "prices=[]\n",
    "for i in price_tags:\n",
    "    prices.append(i.text)\n",
    "#prices\n",
    "des_tag=driver.find_elements_by_xpath('//a[@class=\"IRpwTa\"]')\n",
    "des=[]\n",
    "for i in des_tag:\n",
    "    des.append(i.text)\n",
    "#des\n"
   ]
  },
  {
   "cell_type": "code",
   "execution_count": 52,
   "id": "c275860e",
   "metadata": {},
   "outputs": [],
   "source": [
    "#creating a dataframe \n",
    "df=pd.DataFrame({'Product Name':title_name[0:35] , 'Description' :des[0:35], 'Price' :prices[0:35]})\n"
   ]
  },
  {
   "cell_type": "code",
   "execution_count": 46,
   "id": "3c328770",
   "metadata": {},
   "outputs": [],
   "source": [
    "#code for next button \n",
    "driver.find_element_by_xpath('/html/body/div/div/div[3]/div[1]/div[2]/div[12]/div/div/nav/a[11]/span').click()"
   ]
  },
  {
   "cell_type": "code",
   "execution_count": 47,
   "id": "9207f25f",
   "metadata": {},
   "outputs": [],
   "source": [
    "#scraping the second page details produts ,price and description\n",
    "product_tag=driver.find_elements_by_xpath('//div[@class=\"_2WkVRV\"]')\n",
    "title_name=[]\n",
    "for i in product_tag:\n",
    "    title_name.append(i.text)\n",
    "#title_name\n",
    "price_tags=driver.find_elements_by_xpath('//div[@class=\"_30jeq3\"]')\n",
    "prices=[]\n",
    "for i in price_tags:\n",
    "    prices.append(i.text)\n",
    "#prices\n",
    "des_tag=driver.find_elements_by_xpath('//a[@class=\"IRpwTa\"]')\n",
    "des=[]\n",
    "for i in des_tag:\n",
    "    des.append(i.text)\n",
    "#des"
   ]
  },
  {
   "cell_type": "code",
   "execution_count": 50,
   "id": "d0a91554",
   "metadata": {},
   "outputs": [],
   "source": [
    "#creating a dataframe\n",
    "df1=pd.DataFrame({'Product Name':title_name[0:35] , 'Description' :des[0:35], 'Price' :prices[0:35]})"
   ]
  },
  {
   "cell_type": "code",
   "execution_count": 215,
   "id": "17fc5038",
   "metadata": {},
   "outputs": [],
   "source": [
    "#joining tha above two dataframe \n",
    "df2=df.append(df1, ignore_index = True)\n"
   ]
  },
  {
   "cell_type": "code",
   "execution_count": 54,
   "id": "4949b235",
   "metadata": {},
   "outputs": [],
   "source": [
    "#click for the Next button\n",
    "driver.find_element_by_xpath('/html/body/div[1]/div/div[3]/div[1]/div[2]/div[12]/div/div/nav/a[12]/span').click()"
   ]
  },
  {
   "cell_type": "code",
   "execution_count": 55,
   "id": "10d89e98",
   "metadata": {},
   "outputs": [],
   "source": [
    "#scraping the Third page details produts ,price and description\n",
    "product_tag=driver.find_elements_by_xpath('//div[@class=\"_2WkVRV\"]')\n",
    "title_name=[]\n",
    "for i in product_tag:\n",
    "    title_name.append(i.text)\n",
    "#title_name\n",
    "price_tags=driver.find_elements_by_xpath('//div[@class=\"_30jeq3\"]')\n",
    "prices=[]\n",
    "for i in price_tags:\n",
    "    prices.append(i.text)\n",
    "#prices\n",
    "des_tag=driver.find_elements_by_xpath('//a[@class=\"IRpwTa\"]')\n",
    "des=[]\n",
    "for i in des_tag:\n",
    "    des.append(i.text)\n",
    "#des"
   ]
  },
  {
   "cell_type": "code",
   "execution_count": 56,
   "id": "dd2ed464",
   "metadata": {},
   "outputs": [],
   "source": [
    "#creating the dataframe\n",
    "df3=pd.DataFrame({'Product Name':title_name[0:30] , 'Description' :des[0:30], 'Price' :prices[0:30]})"
   ]
  },
  {
   "cell_type": "code",
   "execution_count": 58,
   "id": "1993ba55",
   "metadata": {},
   "outputs": [
    {
     "data": {
      "text/html": [
       "<div>\n",
       "<style scoped>\n",
       "    .dataframe tbody tr th:only-of-type {\n",
       "        vertical-align: middle;\n",
       "    }\n",
       "\n",
       "    .dataframe tbody tr th {\n",
       "        vertical-align: top;\n",
       "    }\n",
       "\n",
       "    .dataframe thead th {\n",
       "        text-align: right;\n",
       "    }\n",
       "</style>\n",
       "<table border=\"1\" class=\"dataframe\">\n",
       "  <thead>\n",
       "    <tr style=\"text-align: right;\">\n",
       "      <th></th>\n",
       "      <th>Product Name</th>\n",
       "      <th>Description</th>\n",
       "      <th>Price</th>\n",
       "    </tr>\n",
       "  </thead>\n",
       "  <tbody>\n",
       "    <tr>\n",
       "      <th>0</th>\n",
       "      <td>ROZZETTA CRAFT</td>\n",
       "      <td>UV Protection, Gradient Round Sunglasses (Free...</td>\n",
       "      <td>₹360</td>\n",
       "    </tr>\n",
       "    <tr>\n",
       "      <th>1</th>\n",
       "      <td>Fastrack</td>\n",
       "      <td>UV Protection Shield Sunglasses (Free Size)</td>\n",
       "      <td>₹789</td>\n",
       "    </tr>\n",
       "    <tr>\n",
       "      <th>2</th>\n",
       "      <td>Fastrack</td>\n",
       "      <td>UV Protection Aviator Sunglasses (58)</td>\n",
       "      <td>₹1,089</td>\n",
       "    </tr>\n",
       "    <tr>\n",
       "      <th>3</th>\n",
       "      <td>VINCENT CHASE</td>\n",
       "      <td>by Lenskart UV Protection Aviator Sunglasses (53)</td>\n",
       "      <td>₹999</td>\n",
       "    </tr>\n",
       "    <tr>\n",
       "      <th>4</th>\n",
       "      <td>agera</td>\n",
       "      <td>Gradient Aviator Sunglasses (55)</td>\n",
       "      <td>₹196</td>\n",
       "    </tr>\n",
       "    <tr>\n",
       "      <th>...</th>\n",
       "      <td>...</td>\n",
       "      <td>...</td>\n",
       "      <td>...</td>\n",
       "    </tr>\n",
       "    <tr>\n",
       "      <th>95</th>\n",
       "      <td>ROZZETTA CRAFT</td>\n",
       "      <td>Mirrored, UV Protection Round Sunglasses (Free...</td>\n",
       "      <td>₹360</td>\n",
       "    </tr>\n",
       "    <tr>\n",
       "      <th>96</th>\n",
       "      <td>Rich Club</td>\n",
       "      <td>UV Protection Round Sunglasses (48)</td>\n",
       "      <td>₹250</td>\n",
       "    </tr>\n",
       "    <tr>\n",
       "      <th>97</th>\n",
       "      <td>AISLIN</td>\n",
       "      <td>Toughened Glass Lens, UV Protection Aviator Su...</td>\n",
       "      <td>₹829</td>\n",
       "    </tr>\n",
       "    <tr>\n",
       "      <th>98</th>\n",
       "      <td>ROYAL SON</td>\n",
       "      <td>Mirrored Aviator Sunglasses (58)</td>\n",
       "      <td>₹359</td>\n",
       "    </tr>\n",
       "    <tr>\n",
       "      <th>99</th>\n",
       "      <td>SHAAH COLLECTIONS</td>\n",
       "      <td>UV Protection Round Sunglasses (Free Size)</td>\n",
       "      <td>₹270</td>\n",
       "    </tr>\n",
       "  </tbody>\n",
       "</table>\n",
       "<p>100 rows × 3 columns</p>\n",
       "</div>"
      ],
      "text/plain": [
       "         Product Name                                        Description  \\\n",
       "0      ROZZETTA CRAFT  UV Protection, Gradient Round Sunglasses (Free...   \n",
       "1            Fastrack        UV Protection Shield Sunglasses (Free Size)   \n",
       "2            Fastrack              UV Protection Aviator Sunglasses (58)   \n",
       "3       VINCENT CHASE  by Lenskart UV Protection Aviator Sunglasses (53)   \n",
       "4               agera                   Gradient Aviator Sunglasses (55)   \n",
       "..                ...                                                ...   \n",
       "95     ROZZETTA CRAFT  Mirrored, UV Protection Round Sunglasses (Free...   \n",
       "96          Rich Club                UV Protection Round Sunglasses (48)   \n",
       "97             AISLIN  Toughened Glass Lens, UV Protection Aviator Su...   \n",
       "98          ROYAL SON                   Mirrored Aviator Sunglasses (58)   \n",
       "99  SHAAH COLLECTIONS         UV Protection Round Sunglasses (Free Size)   \n",
       "\n",
       "     Price  \n",
       "0     ₹360  \n",
       "1     ₹789  \n",
       "2   ₹1,089  \n",
       "3     ₹999  \n",
       "4     ₹196  \n",
       "..     ...  \n",
       "95    ₹360  \n",
       "96    ₹250  \n",
       "97    ₹829  \n",
       "98    ₹359  \n",
       "99    ₹270  \n",
       "\n",
       "[100 rows x 3 columns]"
      ]
     },
     "execution_count": 58,
     "metadata": {},
     "output_type": "execute_result"
    }
   ],
   "source": [
    "#joining the dataframe \n",
    "\n",
    "df4=df2.append(df3, ignore_index = True)\n",
    "df4"
   ]
  },
  {
   "cell_type": "markdown",
   "id": "e34310d6",
   "metadata": {},
   "source": [
    "_____________________________________________________________________________________________________________________________"
   ]
  },
  {
   "cell_type": "markdown",
   "id": "44e9bc7d",
   "metadata": {},
   "source": [
    "Q5: Scrape 100 reviews data from flipkart.com for iphone11 phone. "
   ]
  },
  {
   "cell_type": "code",
   "execution_count": 59,
   "id": "a16b6928",
   "metadata": {},
   "outputs": [],
   "source": [
    "driver = webdriver.Chrome(r'C:\\Users\\User\\Downloads\\chromedriver_win32\\chromedriver.exe')\n",
    "driver=webdriver.Chrome('chromedriver.exe')\n",
    "url='https://www.flipkart.com/apple-iphone-11-black-128-gb/product-reviews/itm8244e8d955aba?pid=MOBFWQ6BKRYBP5X8&lid=LSTMOBFWQ6BKRYBP5X8HS0EXP&marketplace=FLIPKART'\n",
    "driver.get(url)\n",
    "time.sleep(2)"
   ]
  },
  {
   "cell_type": "code",
   "execution_count": 60,
   "id": "7e883998",
   "metadata": {},
   "outputs": [],
   "source": [
    "rating=driver.find_elements_by_xpath('//div[@class=\"_3LWZlK _1BLPMq\"]')"
   ]
  },
  {
   "cell_type": "code",
   "execution_count": 62,
   "id": "68e07076",
   "metadata": {},
   "outputs": [],
   "source": [
    "ratings=[]\n",
    "for i in rating:\n",
    "    ratings.append(i.text)\n",
    "    \n",
    "review=driver.find_elements_by_xpath('//p[@class=\"_2-N8zT\"]')\n",
    "reviews=[]\n",
    "for i in review:\n",
    "    reviews.append(i.text)\n",
    "    \n",
    "summary=driver.find_elements_by_xpath('//div[@class=\"t-ZTKy\"]')\n",
    "summarys=[]\n",
    "for i in summary:\n",
    "    summarys.append(i.text)\n",
    "#summarys"
   ]
  },
  {
   "cell_type": "code",
   "execution_count": 71,
   "id": "e09faba2",
   "metadata": {},
   "outputs": [],
   "source": [
    "df=pd.DataFrame({'Rating':ratings[0:20] , 'Review_Summary' :reviews[0:20], 'Full Review' :summarys[0:20]})"
   ]
  },
  {
   "cell_type": "code",
   "execution_count": 72,
   "id": "1b60e066",
   "metadata": {},
   "outputs": [],
   "source": [
    "driver.find_element_by_xpath('/html/body/div/div/div[3]/div/div/div[2]/div[13]/div/div/nav/a[3]').click()"
   ]
  },
  {
   "cell_type": "code",
   "execution_count": 73,
   "id": "1f2ba581",
   "metadata": {},
   "outputs": [],
   "source": [
    "rating=driver.find_elements_by_xpath('//div[@class=\"_3LWZlK _1BLPMq\"]')\n",
    "ratings=[]\n",
    "for i in rating:\n",
    "    ratings.append(i.text)\n",
    "    \n",
    "review=driver.find_elements_by_xpath('//p[@class=\"_2-N8zT\"]')\n",
    "reviews=[]\n",
    "for i in review:\n",
    "    reviews.append(i.text)\n",
    "    \n",
    "summary=driver.find_elements_by_xpath('//div[@class=\"t-ZTKy\"]')\n",
    "summarys=[]\n",
    "for i in summary:\n",
    "    summarys.append(i.text)\n",
    "#summarys"
   ]
  },
  {
   "cell_type": "code",
   "execution_count": 75,
   "id": "3bba1166",
   "metadata": {},
   "outputs": [],
   "source": [
    "df1=pd.DataFrame({'Rating':ratings[0:20] , 'Review_Summary' :reviews[0:20], 'Full Review' :summarys[0:20]})"
   ]
  },
  {
   "cell_type": "code",
   "execution_count": 77,
   "id": "c2b3982c",
   "metadata": {},
   "outputs": [],
   "source": [
    "df2=df.append(df1, ignore_index = True)\n"
   ]
  },
  {
   "cell_type": "code",
   "execution_count": 78,
   "id": "a8a2e286",
   "metadata": {},
   "outputs": [],
   "source": [
    "driver.find_element_by_xpath('/html/body/div/div/div[3]/div/div/div[2]/div[13]/div/div/nav/a[4]').click()"
   ]
  },
  {
   "cell_type": "code",
   "execution_count": 79,
   "id": "3ca40418",
   "metadata": {},
   "outputs": [],
   "source": [
    "rating=driver.find_elements_by_xpath('//div[@class=\"_3LWZlK _1BLPMq\"]')\n",
    "ratings=[]\n",
    "for i in rating:\n",
    "    ratings.append(i.text)\n",
    "    \n",
    "review=driver.find_elements_by_xpath('//p[@class=\"_2-N8zT\"]')\n",
    "reviews=[]\n",
    "for i in review:\n",
    "    reviews.append(i.text)\n",
    "    \n",
    "summary=driver.find_elements_by_xpath('//div[@class=\"t-ZTKy\"]')\n",
    "summarys=[]\n",
    "for i in summary:\n",
    "    summarys.append(i.text)\n",
    "#summarys"
   ]
  },
  {
   "cell_type": "code",
   "execution_count": 80,
   "id": "ca49db2b",
   "metadata": {},
   "outputs": [],
   "source": [
    "df3=pd.DataFrame({'Rating':ratings[0:20] , 'Review_Summary' :reviews[0:20], 'Full Review' :summarys[0:20]})"
   ]
  },
  {
   "cell_type": "code",
   "execution_count": 81,
   "id": "15a00242",
   "metadata": {},
   "outputs": [],
   "source": [
    "df4=df3.append(df2, ignore_index = True)"
   ]
  },
  {
   "cell_type": "code",
   "execution_count": 82,
   "id": "e21a81a3",
   "metadata": {},
   "outputs": [],
   "source": [
    "driver.find_element_by_xpath('/html/body/div/div/div[3]/div/div/div[2]/div[13]/div/div/nav/a[6]').click()\n"
   ]
  },
  {
   "cell_type": "code",
   "execution_count": 83,
   "id": "4d0c4eba",
   "metadata": {},
   "outputs": [],
   "source": [
    "rating=driver.find_elements_by_xpath('//div[@class=\"_3LWZlK _1BLPMq\"]')\n",
    "ratings=[]\n",
    "for i in rating:\n",
    "    ratings.append(i.text)\n",
    "    \n",
    "review=driver.find_elements_by_xpath('//p[@class=\"_2-N8zT\"]')\n",
    "reviews=[]\n",
    "for i in review:\n",
    "    reviews.append(i.text)\n",
    "    \n",
    "summary=driver.find_elements_by_xpath('//div[@class=\"t-ZTKy\"]')\n",
    "summarys=[]\n",
    "for i in summary:\n",
    "    summarys.append(i.text)\n",
    "#summarys"
   ]
  },
  {
   "cell_type": "code",
   "execution_count": 85,
   "id": "9b72e42a",
   "metadata": {},
   "outputs": [],
   "source": [
    "df5=pd.DataFrame({'Rating':ratings , 'Review_Summary' :reviews, 'Full Review' :summarys})\n"
   ]
  },
  {
   "cell_type": "code",
   "execution_count": 89,
   "id": "5cbd900e",
   "metadata": {},
   "outputs": [],
   "source": [
    "df6=df4.append(df5, ignore_index = True)\n"
   ]
  },
  {
   "cell_type": "code",
   "execution_count": 90,
   "id": "70935eb8",
   "metadata": {},
   "outputs": [],
   "source": [
    "driver.find_element_by_xpath('/html/body/div/div/div[3]/div/div/div[2]/div[13]/div/div/nav/a[7]').click()\n"
   ]
  },
  {
   "cell_type": "code",
   "execution_count": 92,
   "id": "c0224641",
   "metadata": {},
   "outputs": [],
   "source": [
    "rating=driver.find_elements_by_xpath('//div[@class=\"_3LWZlK _1BLPMq\"]')\n",
    "ratings=[]\n",
    "for i in rating:\n",
    "    ratings.append(i.text)\n",
    "    \n",
    "review=driver.find_elements_by_xpath('//p[@class=\"_2-N8zT\"]')\n",
    "reviews=[]\n",
    "for i in review:\n",
    "    reviews.append(i.text)\n",
    "    \n",
    "summary=driver.find_elements_by_xpath('//div[@class=\"t-ZTKy\"]')\n",
    "summarys=[]\n",
    "for i in summary:\n",
    "    summarys.append(i.text)\n",
    "#summarys\n",
    "df7=pd.DataFrame({'Rating':ratings , 'Review_Summary' :reviews, 'Full Review' :summarys})\n"
   ]
  },
  {
   "cell_type": "code",
   "execution_count": 93,
   "id": "e6742b7a",
   "metadata": {},
   "outputs": [],
   "source": [
    "df8=df6.append(df7, ignore_index = True)\n"
   ]
  },
  {
   "cell_type": "code",
   "execution_count": 95,
   "id": "9f2ddc79",
   "metadata": {},
   "outputs": [],
   "source": [
    "driver.find_element_by_xpath('/html/body/div/div/div[3]/div/div/div[2]/div[13]/div/div/nav/a[8]').click()"
   ]
  },
  {
   "cell_type": "code",
   "execution_count": 100,
   "id": "6cb6fa1d",
   "metadata": {},
   "outputs": [],
   "source": [
    "rating=driver.find_elements_by_xpath('//div[@class=\"_3LWZlK _1BLPMq\"]')\n",
    "ratings=[]\n",
    "for i in rating:\n",
    "    ratings.append(i.text)\n",
    "    \n",
    "review=driver.find_elements_by_xpath('//p[@class=\"_2-N8zT\"]')\n",
    "reviews=[]\n",
    "for i in review:\n",
    "    reviews.append(i.text)\n",
    "    \n",
    "summary=driver.find_elements_by_xpath('//div[@class=\"t-ZTKy\"]')\n",
    "summarys=[]\n",
    "for i in summary:\n",
    "    summarys.append(i.text)\n",
    "#summarys\n",
    "df9=pd.DataFrame({'Rating':ratings[0:9] , 'Review_Summary' :reviews[0:9], 'Full Review' :summarys[0:9]})\n"
   ]
  },
  {
   "cell_type": "code",
   "execution_count": 104,
   "id": "f39dc42e",
   "metadata": {},
   "outputs": [],
   "source": [
    "df10=df8.append(df9, ignore_index = True)\n"
   ]
  },
  {
   "cell_type": "code",
   "execution_count": 103,
   "id": "00a4db5f",
   "metadata": {},
   "outputs": [],
   "source": [
    "driver.find_element_by_xpath('/html/body/div/div/div[3]/div/div/div[2]/div[13]/div/div/nav/a[9]').click()"
   ]
  },
  {
   "cell_type": "code",
   "execution_count": 106,
   "id": "8c18b315",
   "metadata": {},
   "outputs": [],
   "source": [
    "rating=driver.find_elements_by_xpath('//div[@class=\"_3LWZlK _1BLPMq\"]')\n",
    "ratings=[]\n",
    "for i in rating:\n",
    "    ratings.append(i.text)\n",
    "    \n",
    "review=driver.find_elements_by_xpath('//p[@class=\"_2-N8zT\"]')\n",
    "reviews=[]\n",
    "for i in review:\n",
    "    reviews.append(i.text)\n",
    "    \n",
    "summary=driver.find_elements_by_xpath('//div[@class=\"t-ZTKy\"]')\n",
    "summarys=[]\n",
    "for i in summary:\n",
    "    summarys.append(i.text)\n",
    "#summarys\n",
    "df11=pd.DataFrame({'Rating':ratings[0:9] , 'Review_Summary' :reviews[0:9], 'Full Review' :summarys[0:9]})\n"
   ]
  },
  {
   "cell_type": "code",
   "execution_count": 107,
   "id": "94c63cfe",
   "metadata": {},
   "outputs": [],
   "source": [
    "df12=df10.append(df11, ignore_index = True)"
   ]
  },
  {
   "cell_type": "code",
   "execution_count": 109,
   "id": "ab772674",
   "metadata": {},
   "outputs": [],
   "source": [
    "driver.find_element_by_xpath('/html/body/div/div/div[3]/div/div/div[2]/div[13]/div/div/nav/a[10]').click()"
   ]
  },
  {
   "cell_type": "code",
   "execution_count": 110,
   "id": "3196e616",
   "metadata": {},
   "outputs": [],
   "source": [
    "rating=driver.find_elements_by_xpath('//div[@class=\"_3LWZlK _1BLPMq\"]')\n",
    "ratings=[]\n",
    "for i in rating:\n",
    "    ratings.append(i.text)\n",
    "    \n",
    "review=driver.find_elements_by_xpath('//p[@class=\"_2-N8zT\"]')\n",
    "reviews=[]\n",
    "for i in review:\n",
    "    reviews.append(i.text)\n",
    "    \n",
    "summary=driver.find_elements_by_xpath('//div[@class=\"t-ZTKy\"]')\n",
    "summarys=[]\n",
    "for i in summary:\n",
    "    summarys.append(i.text)\n",
    "#summarys\n",
    "df13=pd.DataFrame({'Rating':ratings[0:9] , 'Review_Summary' :reviews[0:9], 'Full Review' :summarys[0:9]})\n"
   ]
  },
  {
   "cell_type": "code",
   "execution_count": 111,
   "id": "f4eb8235",
   "metadata": {},
   "outputs": [],
   "source": [
    "df14=df12.append(df13, ignore_index = True)"
   ]
  },
  {
   "cell_type": "code",
   "execution_count": 113,
   "id": "0c32a3c8",
   "metadata": {},
   "outputs": [],
   "source": [
    "driver.find_element_by_xpath('/html/body/div/div/div[3]/div/div/div[2]/div[13]/div/div/nav/a[6]').click()"
   ]
  },
  {
   "cell_type": "code",
   "execution_count": 114,
   "id": "2e16ef1e",
   "metadata": {},
   "outputs": [],
   "source": [
    "rating=driver.find_elements_by_xpath('//div[@class=\"_3LWZlK _1BLPMq\"]')\n",
    "ratings=[]\n",
    "for i in rating:\n",
    "    ratings.append(i.text)\n",
    "    \n",
    "review=driver.find_elements_by_xpath('//p[@class=\"_2-N8zT\"]')\n",
    "reviews=[]\n",
    "for i in review:\n",
    "    reviews.append(i.text)\n",
    "    \n",
    "summary=driver.find_elements_by_xpath('//div[@class=\"t-ZTKy\"]')\n",
    "summarys=[]\n",
    "for i in summary:\n",
    "    summarys.append(i.text)\n",
    "#summarys\n",
    "df15=pd.DataFrame({'Rating':ratings[0:9] , 'Review_Summary' :reviews[0:9], 'Full Review' :summarys[0:9]})\n"
   ]
  },
  {
   "cell_type": "code",
   "execution_count": 115,
   "id": "f4e6e834",
   "metadata": {},
   "outputs": [],
   "source": [
    "df16=df14.append(df15, ignore_index = True)\n"
   ]
  },
  {
   "cell_type": "code",
   "execution_count": 116,
   "id": "ff3cb2ee",
   "metadata": {},
   "outputs": [],
   "source": [
    "driver.find_element_by_xpath('/html/body/div/div/div[3]/div/div/div[2]/div[13]/div/div/nav/a[12]').click()"
   ]
  },
  {
   "cell_type": "code",
   "execution_count": 118,
   "id": "e83481fb",
   "metadata": {},
   "outputs": [],
   "source": [
    "rating=driver.find_elements_by_xpath('//div[@class=\"_3LWZlK _1BLPMq\"]')\n",
    "ratings=[]\n",
    "for i in rating:\n",
    "    ratings.append(i.text)\n",
    "    \n",
    "review=driver.find_elements_by_xpath('//p[@class=\"_2-N8zT\"]')\n",
    "reviews=[]\n",
    "for i in review:\n",
    "    reviews.append(i.text)\n",
    "    \n",
    "summary=driver.find_elements_by_xpath('//div[@class=\"t-ZTKy\"]')\n",
    "summarys=[]\n",
    "for i in summary:\n",
    "    summarys.append(i.text)\n",
    "#summarys\n",
    "df17=pd.DataFrame({'Rating':ratings[0:9] , 'Review_Summary' :reviews[0:9], 'Full Review' :summarys[0:9]})\n"
   ]
  },
  {
   "cell_type": "code",
   "execution_count": 119,
   "id": "fd42a933",
   "metadata": {},
   "outputs": [],
   "source": [
    "df18=df16.append(df17, ignore_index = True)"
   ]
  },
  {
   "cell_type": "code",
   "execution_count": 120,
   "id": "7ef23406",
   "metadata": {},
   "outputs": [],
   "source": [
    "driver.find_element_by_xpath('/html/body/div/div/div[3]/div/div/div[2]/div[13]/div/div/nav/a[7]').click()"
   ]
  },
  {
   "cell_type": "code",
   "execution_count": 125,
   "id": "73a5ecee",
   "metadata": {},
   "outputs": [],
   "source": [
    "rating=driver.find_elements_by_xpath('//div[@class=\"_3LWZlK _1BLPMq\"]')\n",
    "ratings=[]\n",
    "for i in rating:\n",
    "    ratings.append(i.text)\n",
    "    \n",
    "review=driver.find_elements_by_xpath('//p[@class=\"_2-N8zT\"]')\n",
    "reviews=[]\n",
    "for i in review:\n",
    "    reviews.append(i.text)\n",
    "    \n",
    "summary=driver.find_elements_by_xpath('//div[@class=\"t-ZTKy\"]')\n",
    "summarys=[]\n",
    "for i in summary:\n",
    "    summarys.append(i.text)\n",
    "#summarys\n",
    "df19=pd.DataFrame({'Rating':ratings[0:5] , 'Review_Summary' :reviews[0:5], 'Full Review' :summarys[0:5]})\n"
   ]
  },
  {
   "cell_type": "code",
   "execution_count": 126,
   "id": "03a72dbc",
   "metadata": {},
   "outputs": [
    {
     "data": {
      "text/html": [
       "<div>\n",
       "<style scoped>\n",
       "    .dataframe tbody tr th:only-of-type {\n",
       "        vertical-align: middle;\n",
       "    }\n",
       "\n",
       "    .dataframe tbody tr th {\n",
       "        vertical-align: top;\n",
       "    }\n",
       "\n",
       "    .dataframe thead th {\n",
       "        text-align: right;\n",
       "    }\n",
       "</style>\n",
       "<table border=\"1\" class=\"dataframe\">\n",
       "  <thead>\n",
       "    <tr style=\"text-align: right;\">\n",
       "      <th></th>\n",
       "      <th>Rating</th>\n",
       "      <th>Review_Summary</th>\n",
       "      <th>Full Review</th>\n",
       "    </tr>\n",
       "  </thead>\n",
       "  <tbody>\n",
       "    <tr>\n",
       "      <th>0</th>\n",
       "      <td>5</td>\n",
       "      <td>Wonderful</td>\n",
       "      <td>This is my first ever I phone. Before this I w...</td>\n",
       "    </tr>\n",
       "    <tr>\n",
       "      <th>1</th>\n",
       "      <td>5</td>\n",
       "      <td>Terrific</td>\n",
       "      <td>Really worth of money. i just love it. It is t...</td>\n",
       "    </tr>\n",
       "    <tr>\n",
       "      <th>2</th>\n",
       "      <td>4</td>\n",
       "      <td>Nice product</td>\n",
       "      <td>Awesome Phone. Slightly high price but worth. ...</td>\n",
       "    </tr>\n",
       "    <tr>\n",
       "      <th>3</th>\n",
       "      <td>5</td>\n",
       "      <td>Perfect product!</td>\n",
       "      <td>Battery backup is extraordinary, camera is dec...</td>\n",
       "    </tr>\n",
       "    <tr>\n",
       "      <th>4</th>\n",
       "      <td>5</td>\n",
       "      <td>Classy product</td>\n",
       "      <td>Superb Product !!!\\nA big and worthy upgrade f...</td>\n",
       "    </tr>\n",
       "    <tr>\n",
       "      <th>...</th>\n",
       "      <td>...</td>\n",
       "      <td>...</td>\n",
       "      <td>...</td>\n",
       "    </tr>\n",
       "    <tr>\n",
       "      <th>95</th>\n",
       "      <td>5</td>\n",
       "      <td>Fabulous!</td>\n",
       "      <td>Gift this to your loved ones fabulous product ...</td>\n",
       "    </tr>\n",
       "    <tr>\n",
       "      <th>96</th>\n",
       "      <td>5</td>\n",
       "      <td>Classy product</td>\n",
       "      <td>Finally switched to iOS from android\\nThere is...</td>\n",
       "    </tr>\n",
       "    <tr>\n",
       "      <th>97</th>\n",
       "      <td>5</td>\n",
       "      <td>Terrific</td>\n",
       "      <td>Very good smartphone and value for smoother an...</td>\n",
       "    </tr>\n",
       "    <tr>\n",
       "      <th>98</th>\n",
       "      <td>5</td>\n",
       "      <td>Terrific</td>\n",
       "      <td>This is very nice phone with great camera, per...</td>\n",
       "    </tr>\n",
       "    <tr>\n",
       "      <th>99</th>\n",
       "      <td>5</td>\n",
       "      <td>Just wow!</td>\n",
       "      <td>Got delivered by good packing from Flipkart wi...</td>\n",
       "    </tr>\n",
       "  </tbody>\n",
       "</table>\n",
       "<p>100 rows × 3 columns</p>\n",
       "</div>"
      ],
      "text/plain": [
       "   Rating    Review_Summary                                        Full Review\n",
       "0       5         Wonderful  This is my first ever I phone. Before this I w...\n",
       "1       5          Terrific  Really worth of money. i just love it. It is t...\n",
       "2       4      Nice product  Awesome Phone. Slightly high price but worth. ...\n",
       "3       5  Perfect product!  Battery backup is extraordinary, camera is dec...\n",
       "4       5    Classy product  Superb Product !!!\\nA big and worthy upgrade f...\n",
       "..    ...               ...                                                ...\n",
       "95      5         Fabulous!  Gift this to your loved ones fabulous product ...\n",
       "96      5    Classy product  Finally switched to iOS from android\\nThere is...\n",
       "97      5          Terrific  Very good smartphone and value for smoother an...\n",
       "98      5          Terrific  This is very nice phone with great camera, per...\n",
       "99      5         Just wow!  Got delivered by good packing from Flipkart wi...\n",
       "\n",
       "[100 rows x 3 columns]"
      ]
     },
     "execution_count": 126,
     "metadata": {},
     "output_type": "execute_result"
    }
   ],
   "source": [
    "df20=df18.append(df19, ignore_index = True)\n",
    "df20"
   ]
  },
  {
   "cell_type": "markdown",
   "id": "2434f6e4",
   "metadata": {},
   "source": [
    "________________________________________________________________________________________________________________________________"
   ]
  },
  {
   "cell_type": "markdown",
   "id": "e021445b",
   "metadata": {},
   "source": [
    "Q6: Scrape data for first 100 sneakers you find when you visit flipkart.com andsearch for “sneakers” in the\n",
    "search field.\n",
    "\n"
   ]
  },
  {
   "cell_type": "code",
   "execution_count": 128,
   "id": "45816b4a",
   "metadata": {},
   "outputs": [],
   "source": [
    "import selenium\n",
    "from selenium import webdriver\n",
    "import pandas as pd\n",
    "import warnings\n",
    "warnings.filterwarnings(\"ignore\")\n",
    "import time"
   ]
  },
  {
   "cell_type": "code",
   "execution_count": 129,
   "id": "d911ddf3",
   "metadata": {},
   "outputs": [],
   "source": [
    "driver = webdriver.Chrome(r'C:\\Users\\User\\Downloads\\chromedriver_win32\\chromedriver.exe')"
   ]
  },
  {
   "cell_type": "code",
   "execution_count": 130,
   "id": "c1df6b23",
   "metadata": {},
   "outputs": [],
   "source": [
    "driver=webdriver.Chrome('chromedriver.exe')"
   ]
  },
  {
   "cell_type": "code",
   "execution_count": 131,
   "id": "3497eb00",
   "metadata": {},
   "outputs": [],
   "source": [
    "url='https://www.flipkart.com'\n",
    "driver.get(url)\n",
    "time.sleep(2)"
   ]
  },
  {
   "cell_type": "code",
   "execution_count": 132,
   "id": "b4ec4ce4",
   "metadata": {},
   "outputs": [],
   "source": [
    "try:\n",
    "    driver.find_element_by_xpath(\"//button[@class='_2KpZ6l _2doB4z']\").click()\n",
    "except NoSuchElementException:\n",
    "    pass"
   ]
  },
  {
   "cell_type": "code",
   "execution_count": 133,
   "id": "febe840c",
   "metadata": {},
   "outputs": [],
   "source": [
    "search_bar_fk=driver.find_element_by_class_name('_3704LK')\n",
    "search_bar_fk.clear()\n",
    "search_bar_fk.send_keys('sneakers')"
   ]
  },
  {
   "cell_type": "code",
   "execution_count": 134,
   "id": "47742678",
   "metadata": {},
   "outputs": [],
   "source": [
    "search_btn_fk=driver.find_element_by_class_name('_34RNph')\n",
    "search_btn_fk.click()"
   ]
  },
  {
   "cell_type": "code",
   "execution_count": 135,
   "id": "b3991008",
   "metadata": {},
   "outputs": [
    {
     "data": {
      "text/plain": [
       "<selenium.webdriver.remote.webelement.WebElement (session=\"76287c2318a69bad9ede5a8a0ca14a3e\", element=\"39f984d0-37f5-446b-8c69-68c1ea82e331\")>"
      ]
     },
     "execution_count": 135,
     "metadata": {},
     "output_type": "execute_result"
    }
   ],
   "source": [
    "search_locn=driver.find_element_by_xpath('/html/body/div/div/div[1]/div[1]/div[2]/div[2]/form/ul')\n",
    "search_locn"
   ]
  },
  {
   "cell_type": "code",
   "execution_count": 216,
   "id": "beb50dab",
   "metadata": {},
   "outputs": [],
   "source": [
    "product_tag=driver.find_elements_by_xpath('//div[@class=\"_2WkVRV\"]')\n",
    "title_name=[]\n",
    "for i in product_tag:\n",
    "    title_name.append(i.text)\n",
    "title_name\n",
    "price_tags=driver.find_elements_by_xpath('//div[@class=\"_30jeq3\"]')\n",
    "prices=[]\n",
    "for i in price_tags:\n",
    "    prices.append(i.text)\n",
    "prices\n",
    "des_tag=driver.find_elements_by_xpath('//a[@class=\"IRpwTa\"]')\n",
    "des=[]\n",
    "for i in des_tag:\n",
    "    des.append(i.text)\n",
    "#des\n",
    "df=pd.DataFrame({'Product Name':title_name[0:20] , 'Description' :des[0:20], 'Price' :prices[0:20]})\n"
   ]
  },
  {
   "cell_type": "code",
   "execution_count": 144,
   "id": "d8c45a4f",
   "metadata": {},
   "outputs": [],
   "source": [
    "driver.find_element_by_xpath('/html/body/div/div/div[3]/div[1]/div[2]/div[12]/div/div/nav/a[11]/span').click()"
   ]
  },
  {
   "cell_type": "code",
   "execution_count": 148,
   "id": "def7104f",
   "metadata": {},
   "outputs": [],
   "source": [
    "product_tag=driver.find_elements_by_xpath('//div[@class=\"_2WkVRV\"]')\n",
    "title_name1=[]\n",
    "for i in product_tag:\n",
    "    title_name1.append(i.text)\n",
    "title_name\n",
    "price_tags=driver.find_elements_by_xpath('//div[@class=\"_30jeq3\"]')\n",
    "prices1=[]\n",
    "for i in price_tags:\n",
    "    prices1.append(i.text)\n",
    "prices\n",
    "\n",
    "des_tag=driver.find_elements_by_xpath('//a[@class=\"IRpwTa\"]')\n",
    "des1=[]\n",
    "for i in des_tag:\n",
    "    des1.append(i.text)\n",
    "#des\n",
    "df1=pd.DataFrame({'Product Name':title_name1[0:25] , 'Description' :des1[0:25], 'Price' :prices1[0:25]})\n"
   ]
  },
  {
   "cell_type": "code",
   "execution_count": 149,
   "id": "9f570c31",
   "metadata": {},
   "outputs": [],
   "source": [
    "df2=df.append(df1, ignore_index = True)\n"
   ]
  },
  {
   "cell_type": "code",
   "execution_count": 150,
   "id": "e4a6a686",
   "metadata": {},
   "outputs": [],
   "source": [
    "driver.find_element_by_xpath('/html/body/div[1]/div/div[3]/div[1]/div[2]/div[12]/div/div/nav/a[12]/span').click()"
   ]
  },
  {
   "cell_type": "code",
   "execution_count": 155,
   "id": "54953ad1",
   "metadata": {},
   "outputs": [],
   "source": [
    "product_tag=driver.find_elements_by_xpath('//div[@class=\"_2WkVRV\"]')\n",
    "title_name2=[]\n",
    "for i in product_tag:\n",
    "    title_name2.append(i.text)\n",
    "title_name\n",
    "price_tags=driver.find_elements_by_xpath('//div[@class=\"_30jeq3\"]')\n",
    "prices2=[]\n",
    "for i in price_tags:\n",
    "    prices2.append(i.text)\n",
    "prices\n",
    "\n",
    "des_tag=driver.find_elements_by_xpath('//a[@class=\"IRpwTa\"]')\n",
    "des2=[]\n",
    "for i in des_tag:\n",
    "    des2.append(i.text)\n",
    "df3=pd.DataFrame({'Product Name':title_name2[0:25] , 'Description' :des2[0:25], 'Price' :prices2[0:25]})\n",
    "#df3"
   ]
  },
  {
   "cell_type": "code",
   "execution_count": 154,
   "id": "e5895b1f",
   "metadata": {},
   "outputs": [],
   "source": [
    "df=df3.append(df2, ignore_index = True)\n"
   ]
  },
  {
   "cell_type": "code",
   "execution_count": 156,
   "id": "c3454af1",
   "metadata": {},
   "outputs": [],
   "source": [
    "driver.find_element_by_xpath('/html/body/div[1]/div/div[3]/div[1]/div[2]/div[12]/div/div/nav/a[12]/span').click()"
   ]
  },
  {
   "cell_type": "code",
   "execution_count": 160,
   "id": "ed305984",
   "metadata": {},
   "outputs": [],
   "source": [
    "product_tag=driver.find_elements_by_xpath('//div[@class=\"_2WkVRV\"]')\n",
    "title_name3=[]\n",
    "for i in product_tag:\n",
    "    title_name3.append(i.text)\n",
    "title_name\n",
    "price_tags=driver.find_elements_by_xpath('//div[@class=\"_30jeq3\"]')\n",
    "prices3=[]\n",
    "for i in price_tags:\n",
    "    prices3.append(i.text)\n",
    "prices\n",
    "\n",
    "des_tag=driver.find_elements_by_xpath('//a[@class=\"IRpwTa\"]')\n",
    "des3=[]\n",
    "for i in des_tag:\n",
    "    des3.append(i.text)\n",
    "df4=pd.DataFrame({'Product Name':title_name3[0:30] , 'Description' :des3[0:30], 'Price' :prices3[0:30]})"
   ]
  },
  {
   "cell_type": "code",
   "execution_count": 161,
   "id": "d27bf178",
   "metadata": {},
   "outputs": [
    {
     "data": {
      "text/html": [
       "<div>\n",
       "<style scoped>\n",
       "    .dataframe tbody tr th:only-of-type {\n",
       "        vertical-align: middle;\n",
       "    }\n",
       "\n",
       "    .dataframe tbody tr th {\n",
       "        vertical-align: top;\n",
       "    }\n",
       "\n",
       "    .dataframe thead th {\n",
       "        text-align: right;\n",
       "    }\n",
       "</style>\n",
       "<table border=\"1\" class=\"dataframe\">\n",
       "  <thead>\n",
       "    <tr style=\"text-align: right;\">\n",
       "      <th></th>\n",
       "      <th>Product Name</th>\n",
       "      <th>Description</th>\n",
       "      <th>Price</th>\n",
       "    </tr>\n",
       "  </thead>\n",
       "  <tbody>\n",
       "    <tr>\n",
       "      <th>0</th>\n",
       "      <td>SPADE CLUB</td>\n",
       "      <td>Unique &amp; Perfect Collection Combo Pack of 02 S...</td>\n",
       "      <td>₹665</td>\n",
       "    </tr>\n",
       "    <tr>\n",
       "      <th>1</th>\n",
       "      <td>Saimon</td>\n",
       "      <td>Sneakers For Men</td>\n",
       "      <td>₹238</td>\n",
       "    </tr>\n",
       "    <tr>\n",
       "      <th>2</th>\n",
       "      <td>BRUTON</td>\n",
       "      <td>Men's Sneakers Fashion Lightweight Running Sho...</td>\n",
       "      <td>₹536</td>\n",
       "    </tr>\n",
       "    <tr>\n",
       "      <th>3</th>\n",
       "      <td>PEHANOSA</td>\n",
       "      <td>Boys &amp; Men Stylish, Comfortable Comfort Foam S...</td>\n",
       "      <td>₹479</td>\n",
       "    </tr>\n",
       "    <tr>\n",
       "      <th>4</th>\n",
       "      <td>Echor</td>\n",
       "      <td>Sneakers For Men</td>\n",
       "      <td>₹569</td>\n",
       "    </tr>\n",
       "    <tr>\n",
       "      <th>...</th>\n",
       "      <td>...</td>\n",
       "      <td>...</td>\n",
       "      <td>...</td>\n",
       "    </tr>\n",
       "    <tr>\n",
       "      <th>95</th>\n",
       "      <td>Robbie jones</td>\n",
       "      <td>Men's Canvas Low Top Sneakers Lace-up Classic ...</td>\n",
       "      <td>₹499</td>\n",
       "    </tr>\n",
       "    <tr>\n",
       "      <th>96</th>\n",
       "      <td>HRDK</td>\n",
       "      <td>Fashion Outdoor Canvas Casual Light Weight Lac...</td>\n",
       "      <td>₹368</td>\n",
       "    </tr>\n",
       "    <tr>\n",
       "      <th>97</th>\n",
       "      <td>Xtoon</td>\n",
       "      <td>Casual Sneakrs For Men Sneakers For Men</td>\n",
       "      <td>₹499</td>\n",
       "    </tr>\n",
       "    <tr>\n",
       "      <th>98</th>\n",
       "      <td>hecta</td>\n",
       "      <td>Casual Sneaker Party Wear Shoe Sneakers For Men</td>\n",
       "      <td>₹489</td>\n",
       "    </tr>\n",
       "    <tr>\n",
       "      <th>99</th>\n",
       "      <td>BIRDE</td>\n",
       "      <td>New Fashion Outdoor Trendy Lightweight Casual,...</td>\n",
       "      <td>₹892</td>\n",
       "    </tr>\n",
       "  </tbody>\n",
       "</table>\n",
       "<p>100 rows × 3 columns</p>\n",
       "</div>"
      ],
      "text/plain": [
       "    Product Name                                        Description Price\n",
       "0     SPADE CLUB  Unique & Perfect Collection Combo Pack of 02 S...  ₹665\n",
       "1         Saimon                                   Sneakers For Men  ₹238\n",
       "2         BRUTON  Men's Sneakers Fashion Lightweight Running Sho...  ₹536\n",
       "3       PEHANOSA  Boys & Men Stylish, Comfortable Comfort Foam S...  ₹479\n",
       "4          Echor                                   Sneakers For Men  ₹569\n",
       "..           ...                                                ...   ...\n",
       "95  Robbie jones  Men's Canvas Low Top Sneakers Lace-up Classic ...  ₹499\n",
       "96          HRDK  Fashion Outdoor Canvas Casual Light Weight Lac...  ₹368\n",
       "97         Xtoon            Casual Sneakrs For Men Sneakers For Men  ₹499\n",
       "98         hecta    Casual Sneaker Party Wear Shoe Sneakers For Men  ₹489\n",
       "99         BIRDE  New Fashion Outdoor Trendy Lightweight Casual,...  ₹892\n",
       "\n",
       "[100 rows x 3 columns]"
      ]
     },
     "execution_count": 161,
     "metadata": {},
     "output_type": "execute_result"
    }
   ],
   "source": [
    "df4.append(df, ignore_index = True)"
   ]
  },
  {
   "cell_type": "markdown",
   "id": "b418d287",
   "metadata": {},
   "source": [
    "******************************************************************************************************************************"
   ]
  },
  {
   "cell_type": "markdown",
   "id": "94d4f655",
   "metadata": {},
   "source": [
    "Q7: Go to the link - https://www.myntra.com/shoes\n",
    "Set Price filter to “Rs. 7149 to Rs. 14099 ” , Color filter to “Black”, as shown inthe below image."
   ]
  },
  {
   "cell_type": "code",
   "execution_count": 162,
   "id": "12830cfe",
   "metadata": {},
   "outputs": [],
   "source": [
    "import selenium\n",
    "from selenium import webdriver\n",
    "import pandas as pd\n",
    "import warnings\n",
    "warnings.filterwarnings(\"ignore\")\n",
    "import time"
   ]
  },
  {
   "cell_type": "code",
   "execution_count": 163,
   "id": "6de4dc2b",
   "metadata": {},
   "outputs": [],
   "source": [
    "driver = webdriver.Chrome(r'C:\\Users\\User\\Downloads\\chromedriver_win32\\chromedriver.exe')"
   ]
  },
  {
   "cell_type": "code",
   "execution_count": 165,
   "id": "1b6d7891",
   "metadata": {},
   "outputs": [],
   "source": [
    "driver=webdriver.Chrome('chromedriver.exe')\n",
    "url='https://www.myntra.com/shoes'\n",
    "driver.get(url)"
   ]
  },
  {
   "cell_type": "code",
   "execution_count": 166,
   "id": "cf54c6f1",
   "metadata": {},
   "outputs": [],
   "source": [
    "price_check=driver.find_element_by_xpath('/html/body/div[2]/div/div[1]/main/div[3]/div[1]/section/div/div[5]/ul/li[2]/label')"
   ]
  },
  {
   "cell_type": "code",
   "execution_count": 167,
   "id": "c0c986d2",
   "metadata": {},
   "outputs": [],
   "source": [
    "price_check.click()"
   ]
  },
  {
   "cell_type": "code",
   "execution_count": 168,
   "id": "2058fbff",
   "metadata": {},
   "outputs": [],
   "source": [
    "color_chk=driver.find_element_by_xpath('/html/body/div[2]/div/div[1]/main/div[3]/div[1]/section/div/div[6]/ul/li[1]/label')\n",
    "color_chk.click()"
   ]
  },
  {
   "cell_type": "code",
   "execution_count": 176,
   "id": "85531bf5",
   "metadata": {},
   "outputs": [],
   "source": [
    "title_tag=driver.find_elements_by_xpath('//h3[@class=\"product-brand\"]')\n",
    "title_name=[]\n",
    "for i in title_tag:\n",
    "    title_name.append(i.text)\n",
    "title_name\n",
    "product_des=driver.find_elements_by_xpath('//h4[@class=\"product-product\"]')\n",
    "des=[]\n",
    "for i in product_des:\n",
    "    des.append(i.text)\n",
    "des\n",
    "price=driver.find_elements_by_xpath('//span[@class=\"product-strike\"]')\n",
    "prices=[]\n",
    "for i in price:\n",
    "    prices.append(i.text)\n",
    "prices\n",
    "dis_price=driver.find_elements_by_xpath('//span[@class=\"product-discountedPrice\"]')\n",
    "disc_prices=[]\n",
    "for i in dis_price:\n",
    "    disc_prices.append(i.text)\n",
    "#disc_prices\n",
    "df=pd.DataFrame({'Product Brand':title_name[0:20] , 'Product_Description' :des[0:20], 'Original Price' :prices[0:20],'Discounted_Price' :disc_prices[0:20]})\n"
   ]
  },
  {
   "cell_type": "code",
   "execution_count": 177,
   "id": "1e10d7b6",
   "metadata": {},
   "outputs": [],
   "source": [
    "driver.find_element_by_xpath('/html/body/div[2]/div/div[1]/main/div[3]/div[2]/div/div[2]/section/div[2]/ul/li[12]/a').click()"
   ]
  },
  {
   "cell_type": "code",
   "execution_count": 196,
   "id": "d077ba1c",
   "metadata": {},
   "outputs": [],
   "source": [
    "title_tag=driver.find_elements_by_xpath('//h3[@class=\"product-brand\"]')\n",
    "title_name=[]\n",
    "for i in title_tag:\n",
    "    title_name.append(i.text)\n",
    "title_name\n",
    "product_des=driver.find_elements_by_xpath('//h4[@class=\"product-product\"]')\n",
    "des=[]\n",
    "for i in product_des:\n",
    "    des.append(i.text)\n",
    "des\n",
    "price=driver.find_elements_by_xpath('//span[@class=\"product-strike\"]')\n",
    "prices=[]\n",
    "for i in price:\n",
    "    prices.append(i.text)\n",
    "prices\n",
    "dis_price=driver.find_elements_by_xpath('//span[@class=\"product-discountedPrice\"]')\n",
    "disc_prices=[]\n",
    "for i in dis_price:\n",
    "    disc_prices.append(i.text)\n",
    "disc_prices\n",
    "df1=pd.DataFrame({'Product Brand':title_name[0:20] , 'Product_Description' :des[0:20], 'Original Price' :prices[0:20],'Discounted_Price' :disc_prices[0:20]})\n"
   ]
  },
  {
   "cell_type": "code",
   "execution_count": 195,
   "id": "0f7592e2",
   "metadata": {},
   "outputs": [],
   "source": [
    "df2=df.append(df1, ignore_index = True)\n"
   ]
  },
  {
   "cell_type": "code",
   "execution_count": 180,
   "id": "7ac16e85",
   "metadata": {},
   "outputs": [],
   "source": [
    "driver.find_element_by_xpath('/html/body/div[2]/div/div[1]/main/div[3]/div[2]/div/div[2]/section/div[2]/ul/li[8]/a').click()"
   ]
  },
  {
   "cell_type": "code",
   "execution_count": 194,
   "id": "41c72a0e",
   "metadata": {},
   "outputs": [],
   "source": [
    "title_tag=driver.find_elements_by_xpath('//h3[@class=\"product-brand\"]')\n",
    "title_name=[]\n",
    "for i in title_tag:\n",
    "    title_name.append(i.text)\n",
    "title_name\n",
    "product_des=driver.find_elements_by_xpath('//h4[@class=\"product-product\"]')\n",
    "des=[]\n",
    "for i in product_des:\n",
    "    des.append(i.text)\n",
    "des\n",
    "price=driver.find_elements_by_xpath('//span[@class=\"product-strike\"]')\n",
    "prices=[]\n",
    "for i in price:\n",
    "    prices.append(i.text)\n",
    "prices\n",
    "dis_price=driver.find_elements_by_xpath('//span[@class=\"product-discountedPrice\"]')\n",
    "disc_prices=[]\n",
    "for i in dis_price:\n",
    "    disc_prices.append(i.text)\n",
    "disc_prices\n",
    "df3=pd.DataFrame({'Product Brand':title_name[0:15] , 'Product_Description' :des[0:15], 'Original Price' :prices[0:15],'Discounted_Price' :disc_prices[0:15]})\n"
   ]
  },
  {
   "cell_type": "code",
   "execution_count": 193,
   "id": "8de2d8e4",
   "metadata": {},
   "outputs": [],
   "source": [
    "df4=df2.append(df3, ignore_index = True)\n"
   ]
  },
  {
   "cell_type": "code",
   "execution_count": 183,
   "id": "0d3066e5",
   "metadata": {},
   "outputs": [],
   "source": [
    "driver.find_element_by_xpath('/html/body/div[2]/div/div[1]/main/div[3]/div[2]/div/div[2]/section/div[2]/ul/li[8]/a').click()"
   ]
  },
  {
   "cell_type": "code",
   "execution_count": 192,
   "id": "2242208b",
   "metadata": {},
   "outputs": [],
   "source": [
    "title_tag=driver.find_elements_by_xpath('//h3[@class=\"product-brand\"]')\n",
    "title_name=[]\n",
    "for i in title_tag:\n",
    "    title_name.append(i.text)\n",
    "title_name\n",
    "product_des=driver.find_elements_by_xpath('//h4[@class=\"product-product\"]')\n",
    "des=[]\n",
    "for i in product_des:\n",
    "    des.append(i.text)\n",
    "des\n",
    "price=driver.find_elements_by_xpath('//span[@class=\"product-strike\"]')\n",
    "prices=[]\n",
    "for i in price:\n",
    "    prices.append(i.text)\n",
    "prices\n",
    "dis_price=driver.find_elements_by_xpath('//span[@class=\"product-discountedPrice\"]')\n",
    "disc_prices=[]\n",
    "for i in dis_price:\n",
    "    disc_prices.append(i.text)\n",
    "disc_prices\n",
    "df5=pd.DataFrame({'Product Brand':title_name[0:15] , 'Product_Description' :des[0:15], 'Original Price' :prices[0:15],'Discounted_Price' :disc_prices[0:15]})\n"
   ]
  },
  {
   "cell_type": "code",
   "execution_count": 191,
   "id": "4d59b779",
   "metadata": {},
   "outputs": [],
   "source": [
    "df6=df4.append(df5, ignore_index = True)\n"
   ]
  },
  {
   "cell_type": "code",
   "execution_count": 186,
   "id": "35048368",
   "metadata": {},
   "outputs": [],
   "source": [
    "driver.find_element_by_xpath('/html/body/div[2]/div/div[1]/main/div[3]/div[2]/div/div[2]/section/div[2]/ul/li[8]/a').click()"
   ]
  },
  {
   "cell_type": "code",
   "execution_count": 190,
   "id": "fc7b9619",
   "metadata": {},
   "outputs": [],
   "source": [
    "\n",
    "title_tag=driver.find_elements_by_xpath('//h3[@class=\"product-brand\"]')\n",
    "title_name=[]\n",
    "for i in title_tag:\n",
    "    title_name.append(i.text)\n",
    "title_name\n",
    "product_des=driver.find_elements_by_xpath('//h4[@class=\"product-product\"]')\n",
    "des=[]\n",
    "for i in product_des:\n",
    "    des.append(i.text)\n",
    "des\n",
    "price=driver.find_elements_by_xpath('//span[@class=\"product-strike\"]')\n",
    "prices=[]\n",
    "for i in price:\n",
    "    prices.append(i.text)\n",
    "prices\n",
    "dis_price=driver.find_elements_by_xpath('//span[@class=\"product-discountedPrice\"]')\n",
    "disc_prices=[]\n",
    "for i in dis_price:\n",
    "    disc_prices.append(i.text)\n",
    "disc_prices\n",
    "df7=pd.DataFrame({'Product Brand':title_name[0:15] , 'Product_Description' :des[0:15], 'Original Price' :prices[0:15],'Discounted_Price' :disc_prices[0:15]})\n",
    "df7\n",
    "df8=df6.append(df7, ignore_index = True)\n"
   ]
  },
  {
   "cell_type": "code",
   "execution_count": 188,
   "id": "b40fc641",
   "metadata": {},
   "outputs": [],
   "source": [
    "driver.find_element_by_xpath('/html/body/div[2]/div/div[1]/main/div[3]/div[2]/div/div[2]/section/div[2]/ul/li[11]/a').click()"
   ]
  },
  {
   "cell_type": "code",
   "execution_count": 189,
   "id": "82065fb5",
   "metadata": {},
   "outputs": [
    {
     "data": {
      "text/html": [
       "<div>\n",
       "<style scoped>\n",
       "    .dataframe tbody tr th:only-of-type {\n",
       "        vertical-align: middle;\n",
       "    }\n",
       "\n",
       "    .dataframe tbody tr th {\n",
       "        vertical-align: top;\n",
       "    }\n",
       "\n",
       "    .dataframe thead th {\n",
       "        text-align: right;\n",
       "    }\n",
       "</style>\n",
       "<table border=\"1\" class=\"dataframe\">\n",
       "  <thead>\n",
       "    <tr style=\"text-align: right;\">\n",
       "      <th></th>\n",
       "      <th>Product Brand</th>\n",
       "      <th>Product_Description</th>\n",
       "      <th>Original Price</th>\n",
       "      <th>Discounted_Price</th>\n",
       "    </tr>\n",
       "  </thead>\n",
       "  <tbody>\n",
       "    <tr>\n",
       "      <th>0</th>\n",
       "      <td>Puma</td>\n",
       "      <td>Men Running Shoes</td>\n",
       "      <td>Rs. 12999</td>\n",
       "      <td>Rs. 7149</td>\n",
       "    </tr>\n",
       "    <tr>\n",
       "      <th>1</th>\n",
       "      <td>Hush Puppies</td>\n",
       "      <td>Men Solid Leather Formal Slip-Ons</td>\n",
       "      <td>Rs. 12999</td>\n",
       "      <td>Rs. 8449</td>\n",
       "    </tr>\n",
       "    <tr>\n",
       "      <th>2</th>\n",
       "      <td>Puma</td>\n",
       "      <td>Men Magnify Nitro Running</td>\n",
       "      <td>Rs. 10900</td>\n",
       "      <td>Rs. 9810</td>\n",
       "    </tr>\n",
       "    <tr>\n",
       "      <th>3</th>\n",
       "      <td>Saint G</td>\n",
       "      <td>Men Mid-Top Chelsea Boots</td>\n",
       "      <td>Rs. 7990</td>\n",
       "      <td>Rs. 7191</td>\n",
       "    </tr>\n",
       "    <tr>\n",
       "      <th>4</th>\n",
       "      <td>MANGO</td>\n",
       "      <td>Women WovenDesign Sports Shoes</td>\n",
       "      <td>Rs. 9999</td>\n",
       "      <td>Rs. 7999</td>\n",
       "    </tr>\n",
       "    <tr>\n",
       "      <th>...</th>\n",
       "      <td>...</td>\n",
       "      <td>...</td>\n",
       "      <td>...</td>\n",
       "      <td>...</td>\n",
       "    </tr>\n",
       "    <tr>\n",
       "      <th>95</th>\n",
       "      <td>Onitsuka Tiger</td>\n",
       "      <td>Unisex Colourblocked Sneakers</td>\n",
       "      <td>Rs. 11495</td>\n",
       "      <td>Rs. 10345</td>\n",
       "    </tr>\n",
       "    <tr>\n",
       "      <th>96</th>\n",
       "      <td>Kalenji By Decathlon</td>\n",
       "      <td>Men KD500 Running Shoe</td>\n",
       "      <td>Rs. 13999</td>\n",
       "      <td>Rs. 9099</td>\n",
       "    </tr>\n",
       "    <tr>\n",
       "      <th>97</th>\n",
       "      <td>ALDO</td>\n",
       "      <td>Women Sneakers</td>\n",
       "      <td>Rs. 13999</td>\n",
       "      <td>Rs. 8399</td>\n",
       "    </tr>\n",
       "    <tr>\n",
       "      <th>98</th>\n",
       "      <td>ADIDAS</td>\n",
       "      <td>Terrex Two Trail Running Shoes</td>\n",
       "      <td>Rs. 11999</td>\n",
       "      <td>Rs. 7799</td>\n",
       "    </tr>\n",
       "    <tr>\n",
       "      <th>99</th>\n",
       "      <td>Nike</td>\n",
       "      <td>Women Odyssey React Running</td>\n",
       "      <td>Rs. 12999</td>\n",
       "      <td>Rs. 7799</td>\n",
       "    </tr>\n",
       "  </tbody>\n",
       "</table>\n",
       "<p>100 rows × 4 columns</p>\n",
       "</div>"
      ],
      "text/plain": [
       "           Product Brand                Product_Description Original Price  \\\n",
       "0                   Puma                  Men Running Shoes      Rs. 12999   \n",
       "1           Hush Puppies  Men Solid Leather Formal Slip-Ons      Rs. 12999   \n",
       "2                   Puma          Men Magnify Nitro Running      Rs. 10900   \n",
       "3                Saint G          Men Mid-Top Chelsea Boots       Rs. 7990   \n",
       "4                  MANGO     Women WovenDesign Sports Shoes       Rs. 9999   \n",
       "..                   ...                                ...            ...   \n",
       "95        Onitsuka Tiger      Unisex Colourblocked Sneakers      Rs. 11495   \n",
       "96  Kalenji By Decathlon             Men KD500 Running Shoe      Rs. 13999   \n",
       "97                  ALDO                     Women Sneakers      Rs. 13999   \n",
       "98                ADIDAS     Terrex Two Trail Running Shoes      Rs. 11999   \n",
       "99                  Nike        Women Odyssey React Running      Rs. 12999   \n",
       "\n",
       "   Discounted_Price  \n",
       "0          Rs. 7149  \n",
       "1          Rs. 8449  \n",
       "2          Rs. 9810  \n",
       "3          Rs. 7191  \n",
       "4          Rs. 7999  \n",
       "..              ...  \n",
       "95        Rs. 10345  \n",
       "96         Rs. 9099  \n",
       "97         Rs. 8399  \n",
       "98         Rs. 7799  \n",
       "99         Rs. 7799  \n",
       "\n",
       "[100 rows x 4 columns]"
      ]
     },
     "execution_count": 189,
     "metadata": {},
     "output_type": "execute_result"
    }
   ],
   "source": [
    "title_tag=driver.find_elements_by_xpath('//h3[@class=\"product-brand\"]')\n",
    "title_name=[]\n",
    "for i in title_tag:\n",
    "    title_name.append(i.text)\n",
    "title_name\n",
    "product_des=driver.find_elements_by_xpath('//h4[@class=\"product-product\"]')\n",
    "des=[]\n",
    "for i in product_des:\n",
    "    des.append(i.text)\n",
    "des\n",
    "price=driver.find_elements_by_xpath('//span[@class=\"product-strike\"]')\n",
    "prices=[]\n",
    "for i in price:\n",
    "    prices.append(i.text)\n",
    "prices\n",
    "dis_price=driver.find_elements_by_xpath('//span[@class=\"product-discountedPrice\"]')\n",
    "disc_prices=[]\n",
    "for i in dis_price:\n",
    "    disc_prices.append(i.text)\n",
    "disc_prices\n",
    "df9=pd.DataFrame({'Product Brand':title_name[0:15] , 'Product_Description' :des[0:15], 'Original Price' :prices[0:15],'Discounted_Price' :disc_prices[0:15]})\n",
    "df10=df8.append(df9, ignore_index = True)\n",
    "df10"
   ]
  },
  {
   "cell_type": "markdown",
   "id": "156bfb7b",
   "metadata": {},
   "source": [
    "Q8: Go to webpage https://www.amazon.in/\n",
    "Enter “Laptop” in the search field and then click the search icon.\n",
    "Then set CPU Type filter to “Intel Core i7” and “Intel Core i9” as shown in the below image:"
   ]
  },
  {
   "cell_type": "code",
   "execution_count": 197,
   "id": "ff55b986",
   "metadata": {},
   "outputs": [],
   "source": [
    "import selenium\n",
    "from selenium import webdriver\n",
    "import pandas as pd\n",
    "import warnings\n",
    "warnings.filterwarnings(\"ignore\")\n",
    "import time"
   ]
  },
  {
   "cell_type": "code",
   "execution_count": 198,
   "id": "ad58cfc2",
   "metadata": {},
   "outputs": [],
   "source": [
    "driver = webdriver.Chrome(r'C:\\Users\\User\\Downloads\\chromedriver_win32\\chromedriver.exe')"
   ]
  },
  {
   "cell_type": "code",
   "execution_count": 199,
   "id": "e7bf8218",
   "metadata": {},
   "outputs": [],
   "source": [
    "driver=webdriver.Chrome('chromedriver.exe')\n",
    "url='https://www.amazon.in/'\n",
    "driver.get(url)"
   ]
  },
  {
   "cell_type": "code",
   "execution_count": 204,
   "id": "025288b9",
   "metadata": {},
   "outputs": [
    {
     "data": {
      "text/plain": [
       "<selenium.webdriver.remote.webelement.WebElement (session=\"b21099aa1638d8524e62e87a2e2a0206\", element=\"8bd20fca-f308-422f-b9a0-c47e4eeb88cd\")>"
      ]
     },
     "execution_count": 204,
     "metadata": {},
     "output_type": "execute_result"
    }
   ],
   "source": [
    "search_item=driver.find_element_by_id(\"twotabsearchtextbox\")\n",
    "search_item"
   ]
  },
  {
   "cell_type": "code",
   "execution_count": 205,
   "id": "4e7c20db",
   "metadata": {},
   "outputs": [],
   "source": [
    "search_item.send_keys(\"laptop,\")\n"
   ]
  },
  {
   "cell_type": "code",
   "execution_count": 206,
   "id": "e9506d0a",
   "metadata": {},
   "outputs": [],
   "source": [
    "search_btn_fk=driver.find_element_by_id('nav-search-submit-button')\n",
    "search_btn_fk.click()"
   ]
  },
  {
   "cell_type": "code",
   "execution_count": 208,
   "id": "72cecdaa",
   "metadata": {},
   "outputs": [],
   "source": [
    "cputype_chk=driver.find_element_by_xpath('/html/body/div[1]/div[2]/div[1]/div[2]/div/div[3]/span/div[1]/span/div/div/div[6]/div/div/div[1]/div/span[1]/a[13]')\n",
    "cputype_chk.click()"
   ]
  },
  {
   "cell_type": "code",
   "execution_count": 209,
   "id": "80a5b06e",
   "metadata": {},
   "outputs": [],
   "source": [
    "title_tag=driver.find_elements_by_xpath('//span[@class=\"a-size-base-plus a-color-base a-text-normal\"]')\n",
    "title_name=[]\n",
    "for i in title_tag:\n",
    "    title_name.append(i.text)\n",
    "title_name\n",
    "ratings=driver.find_elements_by_xpath('//span[@class=\"a-size-base\"]')\n",
    "rating=[]\n",
    "for i in ratings:\n",
    "    rating.append(i.text)\n",
    "rating\n",
    "price=driver.find_elements_by_xpath('//span[@class=\"a-price-whole\"]')\n",
    "prices=[]\n",
    "for i in price:\n",
    "    prices.append(i.text)\n",
    "prices\n",
    "df=pd.DataFrame({'Product Brand':title_name[0:5] , 'Ratings' :rating[0:5], 'Original Price' :prices[0:5]})\n"
   ]
  },
  {
   "cell_type": "code",
   "execution_count": 210,
   "id": "d65672ea",
   "metadata": {},
   "outputs": [],
   "source": [
    "driver.find_element_by_xpath('/html/body/div[1]/div[2]/div[1]/div[2]/div/div[3]/span/div[1]/span/div/div/div[1]/div[2]/span/a/span').click()"
   ]
  },
  {
   "cell_type": "code",
   "execution_count": 212,
   "id": "2dd83e33",
   "metadata": {},
   "outputs": [],
   "source": [
    "cputype_chk=driver.find_element_by_xpath('/html/body/div[1]/div[2]/div[1]/div[2]/div/div[3]/span/div[1]/span/div/div/div[6]/div/div/div[1]/div/span[1]/a[14]')\n",
    "cputype_chk.click()"
   ]
  },
  {
   "cell_type": "code",
   "execution_count": 213,
   "id": "690467e3",
   "metadata": {},
   "outputs": [],
   "source": [
    "title_tag=driver.find_elements_by_xpath('//span[@class=\"a-size-base-plus a-color-base a-text-normal\"]')\n",
    "title_name=[]\n",
    "for i in title_tag:\n",
    "    title_name.append(i.text)\n",
    "title_name\n",
    "ratings=driver.find_elements_by_xpath('//span[@class=\"a-size-base\"]')\n",
    "rating=[]\n",
    "for i in ratings:\n",
    "    rating.append(i.text)\n",
    "rating\n",
    "price=driver.find_elements_by_xpath('//span[@class=\"a-price-whole\"]')\n",
    "prices=[]\n",
    "for i in price:\n",
    "    prices.append(i.text)\n",
    "prices\n",
    "df1=pd.DataFrame({'Product Brand':title_name[0:5] , 'Ratings' :rating[0:5], 'Original Price' :prices[0:5]})"
   ]
  },
  {
   "cell_type": "code",
   "execution_count": 214,
   "id": "03a3d0c8",
   "metadata": {},
   "outputs": [
    {
     "data": {
      "text/html": [
       "<div>\n",
       "<style scoped>\n",
       "    .dataframe tbody tr th:only-of-type {\n",
       "        vertical-align: middle;\n",
       "    }\n",
       "\n",
       "    .dataframe tbody tr th {\n",
       "        vertical-align: top;\n",
       "    }\n",
       "\n",
       "    .dataframe thead th {\n",
       "        text-align: right;\n",
       "    }\n",
       "</style>\n",
       "<table border=\"1\" class=\"dataframe\">\n",
       "  <thead>\n",
       "    <tr style=\"text-align: right;\">\n",
       "      <th></th>\n",
       "      <th>Product Brand</th>\n",
       "      <th>Ratings</th>\n",
       "      <th>Original Price</th>\n",
       "    </tr>\n",
       "  </thead>\n",
       "  <tbody>\n",
       "    <tr>\n",
       "      <th>0</th>\n",
       "      <td>ASUS VivoBook 14 (2021), 14-inch (35.56 cms) F...</td>\n",
       "      <td>32</td>\n",
       "      <td>59,990</td>\n",
       "    </tr>\n",
       "    <tr>\n",
       "      <th>1</th>\n",
       "      <td>Lenovo ThinkBook 13s Intel 11th Gen Core i7 13...</td>\n",
       "      <td>48</td>\n",
       "      <td>79,990</td>\n",
       "    </tr>\n",
       "    <tr>\n",
       "      <th>2</th>\n",
       "      <td>Lenovo ThinkBook 15 Intel 11th Gen Core i7 15....</td>\n",
       "      <td>5</td>\n",
       "      <td>85,990</td>\n",
       "    </tr>\n",
       "    <tr>\n",
       "      <th>3</th>\n",
       "      <td>Acer Nitro 5 AN515-57 Gaming Laptop | Intel Co...</td>\n",
       "      <td>223</td>\n",
       "      <td>89,990</td>\n",
       "    </tr>\n",
       "    <tr>\n",
       "      <th>4</th>\n",
       "      <td>ASUS TUF Dash F15 (2021), 15.6-inch (39.62 cms...</td>\n",
       "      <td>9</td>\n",
       "      <td>82,990</td>\n",
       "    </tr>\n",
       "    <tr>\n",
       "      <th>5</th>\n",
       "      <td>ASUS TUF Gaming F15 (2021), 15.6\" (39.62 cms) ...</td>\n",
       "      <td>6</td>\n",
       "      <td>1,44,990</td>\n",
       "    </tr>\n",
       "    <tr>\n",
       "      <th>6</th>\n",
       "      <td>ASUS TUF Gaming F15 (2021), 15.6-inch (39.62 c...</td>\n",
       "      <td>6</td>\n",
       "      <td>1,43,990</td>\n",
       "    </tr>\n",
       "    <tr>\n",
       "      <th>7</th>\n",
       "      <td>Lenovo Legion 7 10th Gen Intel Core i9 15.6 in...</td>\n",
       "      <td>10</td>\n",
       "      <td>2,65,999</td>\n",
       "    </tr>\n",
       "    <tr>\n",
       "      <th>8</th>\n",
       "      <td>ASUS TUF Gaming F15 (2021), 15.6-inch (39.62 c...</td>\n",
       "      <td>7</td>\n",
       "      <td>1,39,990</td>\n",
       "    </tr>\n",
       "    <tr>\n",
       "      <th>9</th>\n",
       "      <td>Dell G7 7500 15.6inch FHD 300 Hz Display Gamin...</td>\n",
       "      <td>6</td>\n",
       "      <td>2,05,990</td>\n",
       "    </tr>\n",
       "  </tbody>\n",
       "</table>\n",
       "</div>"
      ],
      "text/plain": [
       "                                       Product Brand Ratings Original Price\n",
       "0  ASUS VivoBook 14 (2021), 14-inch (35.56 cms) F...      32         59,990\n",
       "1  Lenovo ThinkBook 13s Intel 11th Gen Core i7 13...      48         79,990\n",
       "2  Lenovo ThinkBook 15 Intel 11th Gen Core i7 15....       5         85,990\n",
       "3  Acer Nitro 5 AN515-57 Gaming Laptop | Intel Co...     223         89,990\n",
       "4  ASUS TUF Dash F15 (2021), 15.6-inch (39.62 cms...       9         82,990\n",
       "5  ASUS TUF Gaming F15 (2021), 15.6\" (39.62 cms) ...       6       1,44,990\n",
       "6  ASUS TUF Gaming F15 (2021), 15.6-inch (39.62 c...       6       1,43,990\n",
       "7  Lenovo Legion 7 10th Gen Intel Core i9 15.6 in...      10       2,65,999\n",
       "8  ASUS TUF Gaming F15 (2021), 15.6-inch (39.62 c...       7       1,39,990\n",
       "9  Dell G7 7500 15.6inch FHD 300 Hz Display Gamin...       6       2,05,990"
      ]
     },
     "execution_count": 214,
     "metadata": {},
     "output_type": "execute_result"
    }
   ],
   "source": [
    "df2=df.append(df1, ignore_index = True)\n",
    "df2"
   ]
  },
  {
   "cell_type": "markdown",
   "id": "a49c0e85",
   "metadata": {},
   "source": [
    "Q9: Write a python program to scrape data for first 10 job results for Data Scientist Designation in Noida\n",
    "location. You have to scrape company name, No. of days ago when job was posted, Rating of the company.\n"
   ]
  },
  {
   "cell_type": "code",
   "execution_count": 25,
   "id": "504fbe33",
   "metadata": {},
   "outputs": [],
   "source": [
    "driver = webdriver.Chrome(r'C:\\Users\\User\\Downloads\\chromedriver_win32\\chromedriver.exe')"
   ]
  },
  {
   "cell_type": "code",
   "execution_count": 26,
   "id": "fe0ca28d",
   "metadata": {},
   "outputs": [],
   "source": [
    "driver=webdriver.Chrome('chromedriver.exe')\n",
    "url='https://www.ambitionbox.com/'\n",
    "driver.get(url)"
   ]
  },
  {
   "cell_type": "code",
   "execution_count": 27,
   "id": "6105d646",
   "metadata": {},
   "outputs": [],
   "source": [
    "job_chk=driver.find_element_by_xpath('/html/body/div[1]/nav/nav/a[6]')\n",
    "job_chk.click()"
   ]
  },
  {
   "cell_type": "code",
   "execution_count": 28,
   "id": "ddf5942e",
   "metadata": {},
   "outputs": [
    {
     "data": {
      "text/plain": [
       "<selenium.webdriver.remote.webelement.WebElement (session=\"5506438d6759eba63e5e7a169e4df45f\", element=\"1be827c5-416c-4fee-809a-cbe306c1f27f\")>"
      ]
     },
     "execution_count": 28,
     "metadata": {},
     "output_type": "execute_result"
    }
   ],
   "source": [
    "search_item=driver.find_element_by_xpath('/html/body/div/div/div/div[2]/div[1]/div/div/div/div/span/input')\n",
    "search_item"
   ]
  },
  {
   "cell_type": "code",
   "execution_count": 29,
   "id": "56cc2fc4",
   "metadata": {},
   "outputs": [],
   "source": [
    "search_item.send_keys(\"Data Scientist,\")"
   ]
  },
  {
   "cell_type": "code",
   "execution_count": 30,
   "id": "b0ff181e",
   "metadata": {},
   "outputs": [],
   "source": [
    "find=driver.find_element_by_xpath('/html/body/div/div/div/div[2]/div[1]/div/div/div/button')\n",
    "find.click()"
   ]
  },
  {
   "cell_type": "code",
   "execution_count": 31,
   "id": "b1b32ebc",
   "metadata": {},
   "outputs": [],
   "source": [
    "select_DS = driver.find_element_by_xpath(\"/html/body/div/div/div/div[2]/div[2]/div[1]/div/div/div/div[2]/div[1]/p\")\n",
    "\n",
    "select_DS.click()"
   ]
  },
  {
   "cell_type": "code",
   "execution_count": 32,
   "id": "088dd194",
   "metadata": {},
   "outputs": [],
   "source": [
    "select_DS1 = driver.find_element_by_xpath(\"/html/body/div/div/div/div[2]/div[2]/div[1]/div/div/div/div[2]/div[2]/div/div[3]/div[1]/div[5]/div/label\")\n",
    "\n",
    "select_DS1.click()"
   ]
  },
  {
   "cell_type": "code",
   "execution_count": 33,
   "id": "1f6725ef",
   "metadata": {},
   "outputs": [],
   "source": [
    "title_tag=driver.find_elements_by_xpath('//a[@class=\"title noclick\"]')"
   ]
  },
  {
   "cell_type": "code",
   "execution_count": 34,
   "id": "7aeeb2bd",
   "metadata": {},
   "outputs": [],
   "source": [
    "title_name=[]\n",
    "for i in title_tag:\n",
    "    title_name.append(i.text.split()[0:4])"
   ]
  },
  {
   "cell_type": "code",
   "execution_count": 35,
   "id": "f570ca4a",
   "metadata": {},
   "outputs": [],
   "source": [
    "company=driver.find_elements_by_xpath('//p[@class=\"company body-medium\"]')"
   ]
  },
  {
   "cell_type": "code",
   "execution_count": 36,
   "id": "fe690b94",
   "metadata": {},
   "outputs": [],
   "source": [
    "company1=[]\n",
    "for i in company:\n",
    "    company1.append(i.text)"
   ]
  },
  {
   "cell_type": "code",
   "execution_count": 37,
   "id": "cf87a492",
   "metadata": {},
   "outputs": [],
   "source": [
    "rating_post=driver.find_elements_by_xpath('//span[@class=\"body-small\"]')"
   ]
  },
  {
   "cell_type": "code",
   "execution_count": 38,
   "id": "0eb26dab",
   "metadata": {},
   "outputs": [],
   "source": [
    "rating=[]\n",
    "for i in rating_post:\n",
    "    rating.append(i.text.split()[0])\n"
   ]
  },
  {
   "cell_type": "code",
   "execution_count": 39,
   "id": "36ca9f00",
   "metadata": {},
   "outputs": [
    {
     "data": {
      "text/html": [
       "<div>\n",
       "<style scoped>\n",
       "    .dataframe tbody tr th:only-of-type {\n",
       "        vertical-align: middle;\n",
       "    }\n",
       "\n",
       "    .dataframe tbody tr th {\n",
       "        vertical-align: top;\n",
       "    }\n",
       "\n",
       "    .dataframe thead th {\n",
       "        text-align: right;\n",
       "    }\n",
       "</style>\n",
       "<table border=\"1\" class=\"dataframe\">\n",
       "  <thead>\n",
       "    <tr style=\"text-align: right;\">\n",
       "      <th></th>\n",
       "      <th>Jonb Title</th>\n",
       "      <th>Company Name</th>\n",
       "      <th>Rating</th>\n",
       "    </tr>\n",
       "  </thead>\n",
       "  <tbody>\n",
       "    <tr>\n",
       "      <th>0</th>\n",
       "      <td>[Data, Scientist, @, Bangalore]</td>\n",
       "      <td>Fujitsu Consulting India Pvt. Ltd.</td>\n",
       "      <td>3.8</td>\n",
       "    </tr>\n",
       "    <tr>\n",
       "      <th>1</th>\n",
       "      <td>[Spark, ML, Data, Scientist]</td>\n",
       "      <td>Wipro Limited</td>\n",
       "      <td>3.8</td>\n",
       "    </tr>\n",
       "    <tr>\n",
       "      <th>2</th>\n",
       "      <td>[Data, Scientist]</td>\n",
       "      <td>Amazon Development Centre (India) Pvt. Ltd.</td>\n",
       "      <td>4.2</td>\n",
       "    </tr>\n",
       "    <tr>\n",
       "      <th>3</th>\n",
       "      <td>[Data, Scientist, -, Analytics]</td>\n",
       "      <td>Crescendo Global</td>\n",
       "      <td>4.8</td>\n",
       "    </tr>\n",
       "    <tr>\n",
       "      <th>4</th>\n",
       "      <td>[Finserv, Markets, is, hiring]</td>\n",
       "      <td>BAJAJ FINSERV DIRECT LIMITED</td>\n",
       "      <td>4.0</td>\n",
       "    </tr>\n",
       "    <tr>\n",
       "      <th>5</th>\n",
       "      <td>[Data, Scientist, -, Consultant]</td>\n",
       "      <td>TransUnion Software Services Pvt. Ltd</td>\n",
       "      <td>4.5</td>\n",
       "    </tr>\n",
       "    <tr>\n",
       "      <th>6</th>\n",
       "      <td>[Spec,, Data, Scientist]</td>\n",
       "      <td>BNY Mellon International Operations (India)</td>\n",
       "      <td>4.0</td>\n",
       "    </tr>\n",
       "    <tr>\n",
       "      <th>7</th>\n",
       "      <td>[Senior, Site, Reliability, Engineer]</td>\n",
       "      <td>NUANCE INDIA PVT LTD</td>\n",
       "      <td>4.4</td>\n",
       "    </tr>\n",
       "    <tr>\n",
       "      <th>8</th>\n",
       "      <td>[Xpressbees, -, Data, Scientist]</td>\n",
       "      <td>Xpressbees Pvt Ltd</td>\n",
       "      <td>3.9</td>\n",
       "    </tr>\n",
       "    <tr>\n",
       "      <th>9</th>\n",
       "      <td>[Sr, NLP, &amp;, Text]</td>\n",
       "      <td>EVOLENT HEALTH INTERNATIONAL PRIVATE LIMITED</td>\n",
       "      <td>4.4</td>\n",
       "    </tr>\n",
       "  </tbody>\n",
       "</table>\n",
       "</div>"
      ],
      "text/plain": [
       "                              Jonb Title  \\\n",
       "0        [Data, Scientist, @, Bangalore]   \n",
       "1           [Spark, ML, Data, Scientist]   \n",
       "2                      [Data, Scientist]   \n",
       "3        [Data, Scientist, -, Analytics]   \n",
       "4         [Finserv, Markets, is, hiring]   \n",
       "5       [Data, Scientist, -, Consultant]   \n",
       "6               [Spec,, Data, Scientist]   \n",
       "7  [Senior, Site, Reliability, Engineer]   \n",
       "8       [Xpressbees, -, Data, Scientist]   \n",
       "9                     [Sr, NLP, &, Text]   \n",
       "\n",
       "                                   Company Name Rating  \n",
       "0            Fujitsu Consulting India Pvt. Ltd.    3.8  \n",
       "1                                 Wipro Limited    3.8  \n",
       "2   Amazon Development Centre (India) Pvt. Ltd.    4.2  \n",
       "3                              Crescendo Global    4.8  \n",
       "4                  BAJAJ FINSERV DIRECT LIMITED    4.0  \n",
       "5         TransUnion Software Services Pvt. Ltd    4.5  \n",
       "6   BNY Mellon International Operations (India)    4.0  \n",
       "7                          NUANCE INDIA PVT LTD    4.4  \n",
       "8                            Xpressbees Pvt Ltd    3.9  \n",
       "9  EVOLENT HEALTH INTERNATIONAL PRIVATE LIMITED    4.4  "
      ]
     },
     "execution_count": 39,
     "metadata": {},
     "output_type": "execute_result"
    }
   ],
   "source": [
    "pd.DataFrame({'Jonb Title':title_name[0:10] , 'Company Name' :company1[0:10],'Rating' :rating[0:10]})"
   ]
  },
  {
   "cell_type": "markdown",
   "id": "5b489a05",
   "metadata": {},
   "source": [
    "________________________________________________________________________________________________________________________________"
   ]
  },
  {
   "cell_type": "markdown",
   "id": "d01042f6",
   "metadata": {},
   "source": [
    "Q10: Write a python program to scrape the salary data for Data Scientist designation.\n",
    "You have to scrape Company name, Number of salaries, Average salary, Minsalary, Max Salary."
   ]
  },
  {
   "cell_type": "code",
   "execution_count": 1,
   "id": "d1ba3b57",
   "metadata": {},
   "outputs": [],
   "source": [
    "import selenium\n",
    "from selenium import webdriver\n",
    "import pandas as pd\n",
    "import warnings\n",
    "warnings.filterwarnings(\"ignore\")\n",
    "import time"
   ]
  },
  {
   "cell_type": "code",
   "execution_count": 2,
   "id": "128ae996",
   "metadata": {},
   "outputs": [],
   "source": [
    "driver = webdriver.Chrome(r'C:\\Users\\User\\Downloads\\chromedriver_win32\\chromedriver.exe')"
   ]
  },
  {
   "cell_type": "code",
   "execution_count": 3,
   "id": "2ffcffa4",
   "metadata": {},
   "outputs": [],
   "source": [
    "driver=webdriver.Chrome('chromedriver.exe')\n",
    "url='https://www.ambitionbox.com/'\n",
    "driver.get(url)"
   ]
  },
  {
   "cell_type": "code",
   "execution_count": 4,
   "id": "1ead13d0",
   "metadata": {},
   "outputs": [],
   "source": [
    "job_chk=driver.find_element_by_xpath('/html/body/div[1]/nav/nav/a[4]')\n",
    "job_chk.click()"
   ]
  },
  {
   "cell_type": "code",
   "execution_count": 5,
   "id": "bd6f7114",
   "metadata": {},
   "outputs": [
    {
     "data": {
      "text/plain": [
       "<selenium.webdriver.remote.webelement.WebElement (session=\"7017bc09949a74243276c7246eb5c626\", element=\"27b66053-c0b0-428b-bcfd-14369da1baaf\")>"
      ]
     },
     "execution_count": 5,
     "metadata": {},
     "output_type": "execute_result"
    }
   ],
   "source": [
    "search_item=driver.find_element_by_xpath('/html/body/div/div/div/main/section[1]/div[2]/div[1]/span/input')\n",
    "search_item"
   ]
  },
  {
   "cell_type": "code",
   "execution_count": 6,
   "id": "d61da303",
   "metadata": {},
   "outputs": [],
   "source": [
    "search_item.send_keys(\"Data Scientist\")"
   ]
  },
  {
   "cell_type": "code",
   "execution_count": 7,
   "id": "9163530f",
   "metadata": {},
   "outputs": [],
   "source": [
    "find=driver.find_element_by_xpath('/html/body/div/div/div/main/section[1]/div[2]/div[1]/i[1]')\n",
    "find.click()"
   ]
  },
  {
   "cell_type": "code",
   "execution_count": 8,
   "id": "f0c6ac60",
   "metadata": {},
   "outputs": [],
   "source": [
    "title_tag=driver.find_elements_by_xpath('//div[@class=\"name\"]')"
   ]
  },
  {
   "cell_type": "code",
   "execution_count": 9,
   "id": "743af865",
   "metadata": {},
   "outputs": [],
   "source": [
    "title_name=[]\n",
    "title1_name=[]\n",
    "for i in title_tag:\n",
    "\n",
    "    title_name.append(i.text.split()[0:1])\n",
    "    title1_name.append(i.text.split()[2:5])\n"
   ]
  },
  {
   "cell_type": "code",
   "execution_count": 10,
   "id": "5630505c",
   "metadata": {},
   "outputs": [],
   "source": [
    "Asalary_tag=driver.find_elements_by_xpath('//p[@class=\"averageCtc\"]')\n",
    "Avg_salary=[]\n",
    "for i in Asalary_tag:\n",
    "    Avg_salary.append(i.text)"
   ]
  },
  {
   "cell_type": "code",
   "execution_count": 11,
   "id": "cf134c20",
   "metadata": {},
   "outputs": [],
   "source": [
    "Minsalary_tag=driver.find_elements_by_xpath('//div[@class=\"salary-values\"]')\n",
    "MinAvg_salary=[]\n",
    "maxsalary=[]\n",
    "for i in Minsalary_tag:\n",
    "    MinAvg_salary.append(i.text.replace(r\" ?\\([^)]+\\)\",\"\").split()[1:2])\n",
    "    maxsalary.append(i.text.replace(r\" ?\\([^)]+\\))\",\"\").split()[3:4])"
   ]
  },
  {
   "cell_type": "code",
   "execution_count": 12,
   "id": "9e628cab",
   "metadata": {},
   "outputs": [],
   "source": [
    "Exp=driver.find_elements_by_xpath('//div[@class=\"salaries sbold-list-header\"]')"
   ]
  },
  {
   "cell_type": "code",
   "execution_count": 13,
   "id": "cc701508",
   "metadata": {},
   "outputs": [],
   "source": [
    "Experience=[]\n",
    "for i in Exp:\n",
    "    Experience.append(i.text.split()[3:5])\n"
   ]
  },
  {
   "cell_type": "code",
   "execution_count": 15,
   "id": "d962b2b9",
   "metadata": {},
   "outputs": [
    {
     "data": {
      "text/html": [
       "<div>\n",
       "<style scoped>\n",
       "    .dataframe tbody tr th:only-of-type {\n",
       "        vertical-align: middle;\n",
       "    }\n",
       "\n",
       "    .dataframe tbody tr th {\n",
       "        vertical-align: top;\n",
       "    }\n",
       "\n",
       "    .dataframe thead th {\n",
       "        text-align: right;\n",
       "    }\n",
       "</style>\n",
       "<table border=\"1\" class=\"dataframe\">\n",
       "  <thead>\n",
       "    <tr style=\"text-align: right;\">\n",
       "      <th></th>\n",
       "      <th>Comapny Name</th>\n",
       "      <th>Total salary record,</th>\n",
       "      <th>Avarage Salary</th>\n",
       "      <th>Maximum Salary</th>\n",
       "      <th>Minimum Salary</th>\n",
       "      <th>Experience</th>\n",
       "    </tr>\n",
       "  </thead>\n",
       "  <tbody>\n",
       "    <tr>\n",
       "      <th>0</th>\n",
       "      <td>[Tekion]</td>\n",
       "      <td>[on, 10, salaries]</td>\n",
       "      <td>₹ 23.3L</td>\n",
       "      <td>[32.0L]</td>\n",
       "      <td>[14.0L]</td>\n",
       "      <td>[4, yrs]</td>\n",
       "    </tr>\n",
       "    <tr>\n",
       "      <th>1</th>\n",
       "      <td>[Microsoft]</td>\n",
       "      <td>[based, on, 224]</td>\n",
       "      <td>₹ 22.4L</td>\n",
       "      <td>[45.0L]</td>\n",
       "      <td>[12.0L]</td>\n",
       "      <td>[1-4, yrs]</td>\n",
       "    </tr>\n",
       "    <tr>\n",
       "      <th>2</th>\n",
       "      <td>[Goldman]</td>\n",
       "      <td>[based, on, 11]</td>\n",
       "      <td>₹ 21.9L</td>\n",
       "      <td>[30.0L]</td>\n",
       "      <td>[16.0L]</td>\n",
       "      <td>[2, yrs]</td>\n",
       "    </tr>\n",
       "    <tr>\n",
       "      <th>3</th>\n",
       "      <td>[Flipkart]</td>\n",
       "      <td>[on, 54, salaries]</td>\n",
       "      <td>₹ 20.6L</td>\n",
       "      <td>[30.0L]</td>\n",
       "      <td>[7.0L]</td>\n",
       "      <td>[1-4, yrs]</td>\n",
       "    </tr>\n",
       "    <tr>\n",
       "      <th>4</th>\n",
       "      <td>[Amazon]</td>\n",
       "      <td>[on, 85, salaries]</td>\n",
       "      <td>₹ 19.4L</td>\n",
       "      <td>[41.5L]</td>\n",
       "      <td>[8.0L]</td>\n",
       "      <td>[1-4, yrs]</td>\n",
       "    </tr>\n",
       "    <tr>\n",
       "      <th>5</th>\n",
       "      <td>[Arcesium]</td>\n",
       "      <td>[on, 37, salaries]</td>\n",
       "      <td>₹ 18.5L</td>\n",
       "      <td>[30.0L]</td>\n",
       "      <td>[12.0L]</td>\n",
       "      <td>[1, yr]</td>\n",
       "    </tr>\n",
       "    <tr>\n",
       "      <th>6</th>\n",
       "      <td>[PayPal]</td>\n",
       "      <td>[on, 12, salaries]</td>\n",
       "      <td>₹ 18.4L</td>\n",
       "      <td>[25.0L]</td>\n",
       "      <td>[12.0L]</td>\n",
       "      <td>[1, yr]</td>\n",
       "    </tr>\n",
       "    <tr>\n",
       "      <th>7</th>\n",
       "      <td>[Servicenow]</td>\n",
       "      <td>[Development, India, based]</td>\n",
       "      <td>₹ 18.3L</td>\n",
       "      <td>[25.0L]</td>\n",
       "      <td>[12.0L]</td>\n",
       "      <td>[2-3, yrs]</td>\n",
       "    </tr>\n",
       "    <tr>\n",
       "      <th>8</th>\n",
       "      <td>[Walmart]</td>\n",
       "      <td>[on, 79, salaries]</td>\n",
       "      <td>₹ 17.9L</td>\n",
       "      <td>[32.0L]</td>\n",
       "      <td>[10.0L]</td>\n",
       "      <td>[1-4, yrs]</td>\n",
       "    </tr>\n",
       "    <tr>\n",
       "      <th>9</th>\n",
       "      <td>[ServiceNow]</td>\n",
       "      <td>[on, 16, salaries]</td>\n",
       "      <td>₹ 17.8L</td>\n",
       "      <td>[23.0L]</td>\n",
       "      <td>[11.2L]</td>\n",
       "      <td>[3, yrs]</td>\n",
       "    </tr>\n",
       "  </tbody>\n",
       "</table>\n",
       "</div>"
      ],
      "text/plain": [
       "  Comapny Name          Total salary record, Avarage Salary Maximum Salary  \\\n",
       "0      [Tekion]           [on, 10, salaries]        ₹ 23.3L        [32.0L]   \n",
       "1   [Microsoft]             [based, on, 224]        ₹ 22.4L        [45.0L]   \n",
       "2     [Goldman]              [based, on, 11]        ₹ 21.9L        [30.0L]   \n",
       "3    [Flipkart]           [on, 54, salaries]        ₹ 20.6L        [30.0L]   \n",
       "4      [Amazon]           [on, 85, salaries]        ₹ 19.4L        [41.5L]   \n",
       "5    [Arcesium]           [on, 37, salaries]        ₹ 18.5L        [30.0L]   \n",
       "6      [PayPal]           [on, 12, salaries]        ₹ 18.4L        [25.0L]   \n",
       "7  [Servicenow]  [Development, India, based]        ₹ 18.3L        [25.0L]   \n",
       "8     [Walmart]           [on, 79, salaries]        ₹ 17.9L        [32.0L]   \n",
       "9  [ServiceNow]           [on, 16, salaries]        ₹ 17.8L        [23.0L]   \n",
       "\n",
       "  Minimum Salary   Experience  \n",
       "0         [14.0L]    [4, yrs]  \n",
       "1         [12.0L]  [1-4, yrs]  \n",
       "2         [16.0L]    [2, yrs]  \n",
       "3          [7.0L]  [1-4, yrs]  \n",
       "4          [8.0L]  [1-4, yrs]  \n",
       "5         [12.0L]     [1, yr]  \n",
       "6         [12.0L]     [1, yr]  \n",
       "7         [12.0L]  [2-3, yrs]  \n",
       "8         [10.0L]  [1-4, yrs]  \n",
       "9         [11.2L]    [3, yrs]  "
      ]
     },
     "execution_count": 15,
     "metadata": {},
     "output_type": "execute_result"
    }
   ],
   "source": [
    "df=pd.DataFrame({'Comapny Name ':title_name[0:10] , 'Total salary record,' :title1_name[0:10], 'Avarage Salary' :Avg_salary[0:10],'Maximum Salary' :maxsalary[0:10],'Minimum Salary ':MinAvg_salary,'Experience':Experience})\n",
    "df"
   ]
  },
  {
   "cell_type": "markdown",
   "id": "6a156612",
   "metadata": {},
   "source": [
    "----------------------------------------------------------------------------THE END----------------------------------------------------------------"
   ]
  }
 ],
 "metadata": {
  "kernelspec": {
   "display_name": "Python 3",
   "language": "python",
   "name": "python3"
  },
  "language_info": {
   "codemirror_mode": {
    "name": "ipython",
    "version": 3
   },
   "file_extension": ".py",
   "mimetype": "text/x-python",
   "name": "python",
   "nbconvert_exporter": "python",
   "pygments_lexer": "ipython3",
   "version": "3.8.8"
  }
 },
 "nbformat": 4,
 "nbformat_minor": 5
}
